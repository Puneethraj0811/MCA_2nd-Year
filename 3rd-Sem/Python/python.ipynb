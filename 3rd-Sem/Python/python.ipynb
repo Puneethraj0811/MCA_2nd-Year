{
 "cells": [
  {
   "cell_type": "code",
   "execution_count": 1,
   "id": "d80def2f-28d9-4d5c-81d4-3ec348916dc0",
   "metadata": {},
   "outputs": [
    {
     "name": "stdout",
     "output_type": "stream",
     "text": [
      "Hello world\n"
     ]
    }
   ],
   "source": [
    "print(\"Hello world\")"
   ]
  },
  {
   "cell_type": "code",
   "execution_count": 2,
   "id": "c09dbc55-609b-4c1d-9fba-f3faccbdcca5",
   "metadata": {},
   "outputs": [
    {
     "name": "stdout",
     "output_type": "stream",
     "text": [
      "10\n"
     ]
    }
   ],
   "source": [
    "x=10\n",
    "y=2.30\n",
    "z='I'\n",
    "w=\"Hello\"\n",
    "print(x)"
   ]
  },
  {
   "cell_type": "code",
   "execution_count": 3,
   "id": "ca882c32-8998-4dda-887f-728064ac98da",
   "metadata": {},
   "outputs": [
    {
     "name": "stdout",
     "output_type": "stream",
     "text": [
      "2.3\n"
     ]
    }
   ],
   "source": [
    "print(y)"
   ]
  },
  {
   "cell_type": "code",
   "execution_count": 4,
   "id": "b8464862-c0a8-4179-a8cc-ca284e77d00f",
   "metadata": {},
   "outputs": [
    {
     "name": "stdout",
     "output_type": "stream",
     "text": [
      "ll O\n"
     ]
    }
   ],
   "source": [
    "print(\"ll\",'O')"
   ]
  },
  {
   "cell_type": "code",
   "execution_count": 5,
   "id": "3cc1e838-f193-44d2-8e2e-e59af19a5d06",
   "metadata": {},
   "outputs": [
    {
     "name": "stdout",
     "output_type": "stream",
     "text": [
      "ll O\n"
     ]
    }
   ],
   "source": [
    "print(\"ll O\")"
   ]
  },
  {
   "cell_type": "code",
   "execution_count": 6,
   "id": "4aee89f1-61e2-460c-86e1-1c493a1d7f36",
   "metadata": {},
   "outputs": [
    {
     "name": "stdout",
     "output_type": "stream",
     "text": [
      "just number 29\n"
     ]
    }
   ],
   "source": [
    "t=29\n",
    "print(\"just number\",t)"
   ]
  },
  {
   "cell_type": "code",
   "execution_count": 8,
   "id": "65cc4e2a-b2f1-4d96-9e4a-2305adf1483d",
   "metadata": {},
   "outputs": [
    {
     "name": "stdin",
     "output_type": "stream",
     "text": [
      "num1 67\n",
      "enter message bbhgg\n"
     ]
    },
    {
     "name": "stdout",
     "output_type": "stream",
     "text": [
      "entered is 67.0 bbhgg\n"
     ]
    }
   ],
   "source": [
    "z=float(input(\"num1\"))\n",
    "x=input(\"enter message\")\n",
    "print(\"entered is\",z,x)"
   ]
  },
  {
   "cell_type": "code",
   "execution_count": 9,
   "id": "b5c893f5-2df6-4c64-9ffd-76c537c0e06f",
   "metadata": {},
   "outputs": [
    {
     "name": "stdout",
     "output_type": "stream",
     "text": [
      "<class 'str'>\n"
     ]
    }
   ],
   "source": [
    "print(type(x))"
   ]
  },
  {
   "cell_type": "code",
   "execution_count": 11,
   "id": "a968ad2c-ce7e-4a85-bf5a-b3379e37dc02",
   "metadata": {},
   "outputs": [
    {
     "name": "stdout",
     "output_type": "stream",
     "text": [
      "<class 'float'>\n"
     ]
    }
   ],
   "source": [
    "print(type (z))"
   ]
  },
  {
   "cell_type": "code",
   "execution_count": 12,
   "id": "89b15d5d-f2ee-4ba0-8cd8-af7025083b84",
   "metadata": {},
   "outputs": [
    {
     "name": "stdout",
     "output_type": "stream",
     "text": [
      "lo, \n",
      "l,a\n"
     ]
    }
   ],
   "source": [
    "str=\"HelloMasters\"\n",
    "print(str[3:7])\n",
    "print(str[2:10:3])"
   ]
  },
  {
   "cell_type": "code",
   "execution_count": 13,
   "id": "254b73a0-21a2-4c3a-be25-eb4f6d8558ce",
   "metadata": {},
   "outputs": [
    {
     "name": "stdout",
     "output_type": "stream",
     "text": [
      "ters\n"
     ]
    }
   ],
   "source": [
    "print(str[-4:])"
   ]
  },
  {
   "cell_type": "code",
   "execution_count": 7,
   "id": "d2f0c06e-dae7-4ec3-b8c5-279015440435",
   "metadata": {},
   "outputs": [
    {
     "ename": "TypeError",
     "evalue": "'type' object is not subscriptable",
     "output_type": "error",
     "traceback": [
      "\u001b[0;31m---------------------------------------------------------------------------\u001b[0m",
      "\u001b[0;31mTypeError\u001b[0m                                 Traceback (most recent call last)",
      "\u001b[0;32m/tmp/ipykernel_4035/3785835749.py\u001b[0m in \u001b[0;36m<module>\u001b[0;34m\u001b[0m\n\u001b[0;32m----> 1\u001b[0;31m \u001b[0mprint\u001b[0m\u001b[0;34m(\u001b[0m\u001b[0mstr\u001b[0m\u001b[0;34m[\u001b[0m\u001b[0;36m3\u001b[0m\u001b[0;34m:\u001b[0m\u001b[0;36m7\u001b[0m\u001b[0;34m]\u001b[0m\u001b[0;34m)\u001b[0m\u001b[0;34m\u001b[0m\u001b[0;34m\u001b[0m\u001b[0m\n\u001b[0m",
      "\u001b[0;31mTypeError\u001b[0m: 'type' object is not subscriptable"
     ]
    }
   ],
   "source": [
    "print(str[3:7])"
   ]
  },
  {
   "cell_type": "code",
   "execution_count": 14,
   "id": "11c8cefc-ba37-44db-9012-23e498fc5c32",
   "metadata": {},
   "outputs": [
    {
     "name": "stdout",
     "output_type": "stream",
     "text": [
      "\n"
     ]
    }
   ],
   "source": [
    "print(str[-4:10])"
   ]
  },
  {
   "cell_type": "code",
   "execution_count": 15,
   "id": "ca7ebde0-7c6e-4a2c-aeb1-b0ad74a63eaf",
   "metadata": {},
   "outputs": [
    {
     "name": "stdout",
     "output_type": "stream",
     "text": [
      "hello, masters\n"
     ]
    }
   ],
   "source": [
    "print(str.lower())"
   ]
  },
  {
   "cell_type": "code",
   "execution_count": 16,
   "id": "0137cb48-034c-4768-992d-f8a909dc07ef",
   "metadata": {},
   "outputs": [
    {
     "name": "stdout",
     "output_type": "stream",
     "text": [
      "HELLO, MASTERS\n"
     ]
    }
   ],
   "source": [
    "print(str.upper())"
   ]
  },
  {
   "cell_type": "code",
   "execution_count": 17,
   "id": "502b8485-d182-49f1-a238-0362c06710e7",
   "metadata": {},
   "outputs": [
    {
     "name": "stdout",
     "output_type": "stream",
     "text": [
      "False\n"
     ]
    }
   ],
   "source": [
    "print(str.isupper())"
   ]
  },
  {
   "cell_type": "code",
   "execution_count": 18,
   "id": "9fed0e0a-fc6e-4cc1-af9e-1165743fbb36",
   "metadata": {},
   "outputs": [
    {
     "name": "stdout",
     "output_type": "stream",
     "text": [
      "Hello, Masters\n"
     ]
    }
   ],
   "source": [
    "print(str)"
   ]
  },
  {
   "cell_type": "code",
   "execution_count": 19,
   "id": "d5f1f1e1-5440-42cc-983a-ecca7df38ded",
   "metadata": {},
   "outputs": [
    {
     "name": "stdout",
     "output_type": "stream",
     "text": [
      "False\n"
     ]
    }
   ],
   "source": [
    "print(str.islower())"
   ]
  },
  {
   "cell_type": "code",
   "execution_count": 20,
   "id": "55aee9d6-6d94-48bd-ba8a-bfa35c91e6e9",
   "metadata": {},
   "outputs": [
    {
     "name": "stdout",
     "output_type": "stream",
     "text": [
      "False\n"
     ]
    }
   ],
   "source": [
    "print(str.isalpha())"
   ]
  },
  {
   "cell_type": "code",
   "execution_count": 21,
   "id": "8dbc1c26-0d05-4b1d-95ba-647e32f50e79",
   "metadata": {},
   "outputs": [
    {
     "name": "stdout",
     "output_type": "stream",
     "text": [
      "False\n"
     ]
    }
   ],
   "source": [
    "print(str.isalpha())"
   ]
  },
  {
   "cell_type": "code",
   "execution_count": 22,
   "id": "b61a3fea-dfe5-4260-95f7-6e7ed8068e76",
   "metadata": {},
   "outputs": [
    {
     "name": "stdout",
     "output_type": "stream",
     "text": [
      "True\n"
     ]
    }
   ],
   "source": [
    "st=\"helloMasters\"\n",
    "print(st.isalpha())"
   ]
  },
  {
   "cell_type": "code",
   "execution_count": 1,
   "id": "fc2ec486-96e2-4b37-9186-425eca72c5b1",
   "metadata": {},
   "outputs": [
    {
     "name": "stdout",
     "output_type": "stream",
     "text": [
      "False\n"
     ]
    }
   ],
   "source": [
    "alp=\"12hello\"\n",
    "print(alp.isalpha())"
   ]
  },
  {
   "cell_type": "code",
   "execution_count": 4,
   "id": "8b6b8169",
   "metadata": {},
   "outputs": [
    {
     "name": "stdout",
     "output_type": "stream",
     "text": [
      "Lorem ipsum dolor sit amet,\n",
      "consectetur adipiscing elit,\n",
      "sed do eiusmod tempor incididunt\n",
      "ut labore et dolore magna aliqua.\n"
     ]
    }
   ],
   "source": [
    "\"\"\"Lorem ipsum dolor sit amet,\n",
    "consectetur adipiscing elit,\n",
    "sed do eiusmod tempor incididunt\n",
    "ut labore et dolore magna aliqua.\"\"\"\n",
    "print(a)"
   ]
  },
  {
   "cell_type": "code",
   "execution_count": 6,
   "id": "f5f3994e",
   "metadata": {},
   "outputs": [
    {
     "data": {
      "text/plain": [
       "'Lorem ipsum dolor sit amet,\\nconsectetur adipiscing elit,\\nsed do eiusmod tempor incididunt\\nut labore et dolore magna aliqua.'"
      ]
     },
     "execution_count": 6,
     "metadata": {},
     "output_type": "execute_result"
    }
   ],
   "source": [
    "\"\"\"Lorem ipsum dolor sit amet,\n",
    "consectetur adipiscing elit,\n",
    "sed do eiusmod tempor incididunt\n",
    "ut labore et dolore magna aliqua.\"\"\""
   ]
  },
  {
   "cell_type": "code",
   "execution_count": 8,
   "id": "0b1dd930",
   "metadata": {},
   "outputs": [
    {
     "name": "stdout",
     "output_type": "stream",
     "text": [
      "False\n"
     ]
    }
   ],
   "source": [
    "string=\"hello good morning\"\n",
    "print(string.isspace())"
   ]
  },
  {
   "cell_type": "code",
   "execution_count": 9,
   "id": "537a3beb",
   "metadata": {},
   "outputs": [
    {
     "name": "stdout",
     "output_type": "stream",
     "text": [
      "True\n"
     ]
    }
   ],
   "source": [
    "strin=\"          \"\n",
    "print(strin.isspace())"
   ]
  },
  {
   "cell_type": "code",
   "execution_count": 13,
   "id": "7faba090",
   "metadata": {},
   "outputs": [
    {
     "name": "stdout",
     "output_type": "stream",
     "text": [
      "\n"
     ]
    }
   ],
   "source": [
    "fun=\"madam\"\n",
    "print(fun[-1:1])"
   ]
  },
  {
   "cell_type": "code",
   "execution_count": 15,
   "id": "89c7a735",
   "metadata": {},
   "outputs": [
    {
     "name": "stdout",
     "output_type": "stream",
     "text": [
      "['hr', 2, 3, 4]\n"
     ]
    }
   ],
   "source": [
    "list=[1,2,3,4]\n",
    "list[0]='hr'\n",
    "print(list)"
   ]
  },
  {
   "cell_type": "code",
   "execution_count": 17,
   "id": "95495cd6",
   "metadata": {},
   "outputs": [
    {
     "name": "stdout",
     "output_type": "stream",
     "text": [
      "[1, 2, 3, 4, 8]\n"
     ]
    }
   ],
   "source": [
    "list=[1,2,3,4]\n",
    "list.append(8)\n",
    "print(list)"
   ]
  },
  {
   "cell_type": "code",
   "execution_count": 18,
   "id": "bacd63a3",
   "metadata": {},
   "outputs": [
    {
     "name": "stdout",
     "output_type": "stream",
     "text": [
      "[1, 2, 3, 4, 3, 7, 6, 2]\n"
     ]
    }
   ],
   "source": [
    "list=[1,2,3,4]\n",
    "list2=[3,7,6,2]\n",
    "list.extend(list2)\n",
    "print(list)"
   ]
  },
  {
   "cell_type": "code",
   "execution_count": 19,
   "id": "e1a9a587",
   "metadata": {},
   "outputs": [
    {
     "name": "stdout",
     "output_type": "stream",
     "text": [
      "(1, 2, 32, 'Value')\n"
     ]
    }
   ],
   "source": [
    "touple=(1,2,32,\"Value\")\n",
    "print(touple)"
   ]
  },
  {
   "cell_type": "code",
   "execution_count": 20,
   "id": "09905e52",
   "metadata": {},
   "outputs": [
    {
     "ename": "AttributeError",
     "evalue": "'tuple' object has no attribute 'append'",
     "output_type": "error",
     "traceback": [
      "\u001b[0;31m---------------------------------------------------------------------------\u001b[0m",
      "\u001b[0;31mAttributeError\u001b[0m                            Traceback (most recent call last)",
      "\u001b[0;32m/tmp/ipykernel_4035/1778041970.py\u001b[0m in \u001b[0;36m<module>\u001b[0;34m\u001b[0m\n\u001b[1;32m      1\u001b[0m \u001b[0mtouple\u001b[0m\u001b[0;34m=\u001b[0m\u001b[0;34m(\u001b[0m\u001b[0;36m1\u001b[0m\u001b[0;34m,\u001b[0m\u001b[0;36m2\u001b[0m\u001b[0;34m,\u001b[0m\u001b[0;36m32\u001b[0m\u001b[0;34m,\u001b[0m\u001b[0;34m\"Value\"\u001b[0m\u001b[0;34m)\u001b[0m\u001b[0;34m\u001b[0m\u001b[0;34m\u001b[0m\u001b[0m\n\u001b[0;32m----> 2\u001b[0;31m \u001b[0mtouple\u001b[0m\u001b[0;34m.\u001b[0m\u001b[0mappend\u001b[0m\u001b[0;34m(\u001b[0m\u001b[0;36m3\u001b[0m\u001b[0;34m)\u001b[0m\u001b[0;34m\u001b[0m\u001b[0;34m\u001b[0m\u001b[0m\n\u001b[0m\u001b[1;32m      3\u001b[0m \u001b[0mprint\u001b[0m\u001b[0;34m(\u001b[0m\u001b[0mtouple\u001b[0m\u001b[0;34m)\u001b[0m\u001b[0;34m\u001b[0m\u001b[0;34m\u001b[0m\u001b[0m\n",
      "\u001b[0;31mAttributeError\u001b[0m: 'tuple' object has no attribute 'append'"
     ]
    }
   ],
   "source": [
    "touple=(1,2,32,\"Value\")\n",
    "touple.append(3)\n",
    "print(touple)"
   ]
  },
  {
   "cell_type": "code",
   "execution_count": 21,
   "id": "fa770a3c",
   "metadata": {},
   "outputs": [
    {
     "name": "stdout",
     "output_type": "stream",
     "text": [
      "olleh\n"
     ]
    }
   ],
   "source": [
    "str=\"hello\"\n",
    "print(str[::-1])"
   ]
  },
  {
   "cell_type": "code",
   "execution_count": 31,
   "id": "bf9ff28b",
   "metadata": {},
   "outputs": [
    {
     "name": "stdout",
     "output_type": "stream",
     "text": [
      "hello\n"
     ]
    }
   ],
   "source": [
    "dicti={1:\"hello\",2.2:\"happy\",\"crazy\":1}\n",
    "print(dicti[1])"
   ]
  },
  {
   "cell_type": "code",
   "execution_count": 27,
   "id": "b611380f",
   "metadata": {},
   "outputs": [
    {
     "name": "stdout",
     "output_type": "stream",
     "text": [
      "happy\n"
     ]
    }
   ],
   "source": [
    "dicti={1:\"hello\",2.2:\"happy\",\"crazy\":1}\n",
    "print(dicti[2.2])"
   ]
  },
  {
   "cell_type": "code",
   "execution_count": 28,
   "id": "b34c0804",
   "metadata": {},
   "outputs": [
    {
     "ename": "SyntaxError",
     "evalue": "invalid syntax (2653249196.py, line 1)",
     "output_type": "error",
     "traceback": [
      "\u001b[0;36m  File \u001b[0;32m\"/tmp/ipykernel_4035/2653249196.py\"\u001b[0;36m, line \u001b[0;32m1\u001b[0m\n\u001b[0;31m    dicti=[1:\"hello\",2.2:\"happy\"]\u001b[0m\n\u001b[0m            ^\u001b[0m\n\u001b[0;31mSyntaxError\u001b[0m\u001b[0;31m:\u001b[0m invalid syntax\n"
     ]
    }
   ],
   "source": [
    "dicti=[1:\"hello\",2.2:\"happy\"]\n",
    "print(dicti[1])"
   ]
  },
  {
   "cell_type": "code",
   "execution_count": 26,
   "id": "6e388e9d",
   "metadata": {},
   "outputs": [
    {
     "ename": "SyntaxError",
     "evalue": "invalid syntax (1136901092.py, line 1)",
     "output_type": "error",
     "traceback": [
      "\u001b[0;36m  File \u001b[0;32m\"/tmp/ipykernel_4035/1136901092.py\"\u001b[0;36m, line \u001b[0;32m1\u001b[0m\n\u001b[0;31m    dictionary will accept duplicate keys\u001b[0m\n\u001b[0m               ^\u001b[0m\n\u001b[0;31mSyntaxError\u001b[0m\u001b[0;31m:\u001b[0m invalid syntax\n"
     ]
    }
   ],
   "source": [
    "dictionary will accept duplicate keys"
   ]
  },
  {
   "cell_type": "code",
   "execution_count": 34,
   "id": "e3869d03",
   "metadata": {},
   "outputs": [
    {
     "name": "stdout",
     "output_type": "stream",
     "text": [
      "crazy\n"
     ]
    }
   ],
   "source": [
    "dici={1:\"hello\",2.2:\"happy\",1:\"crazy\"} # str={key:value}\n",
    "print(dici[1])"
   ]
  },
  {
   "cell_type": "code",
   "execution_count": 35,
   "id": "c656b712",
   "metadata": {},
   "outputs": [
    {
     "name": "stdout",
     "output_type": "stream",
     "text": [
      "true\n"
     ]
    }
   ],
   "source": [
    "list=[2,3,5,4,3,54,7]\n",
    "if 2 in list:\n",
    "    print(\"true\")"
   ]
  },
  {
   "cell_type": "code",
   "execution_count": 36,
   "id": "b15c6520",
   "metadata": {},
   "outputs": [],
   "source": [
    "list=[2,3,5,4,3,54,7]\n",
    "if 2 not in list:\n",
    "    print(\"true\")"
   ]
  },
  {
   "cell_type": "code",
   "execution_count": 37,
   "id": "38198b2e",
   "metadata": {},
   "outputs": [
    {
     "name": "stdout",
     "output_type": "stream",
     "text": [
      "true\n"
     ]
    }
   ],
   "source": [
    "list=[2,3,5,4,3,54,7]\n",
    "if 1 not in list:\n",
    "    print(\"true\")"
   ]
  },
  {
   "cell_type": "code",
   "execution_count": 38,
   "id": "ff63dece",
   "metadata": {},
   "outputs": [
    {
     "name": "stdout",
     "output_type": "stream",
     "text": [
      "tr\n"
     ]
    }
   ],
   "source": [
    "string=\"this is string\"\n",
    "if \"tr\" in string:\n",
    "    print(\"tr\")"
   ]
  },
  {
   "cell_type": "code",
   "execution_count": 39,
   "id": "5937c0bf",
   "metadata": {},
   "outputs": [],
   "source": [
    "string=\"this is string\"\n",
    "if \"t g\" in string:\n",
    "    print(\"t g\")"
   ]
  },
  {
   "cell_type": "code",
   "execution_count": 40,
   "id": "bfd89502",
   "metadata": {},
   "outputs": [
    {
     "name": "stdout",
     "output_type": "stream",
     "text": [
      "ng\n"
     ]
    }
   ],
   "source": [
    "string=\"this is string\"\n",
    "if \"ng\" in string:\n",
    "    print(\"ng\")"
   ]
  },
  {
   "cell_type": "code",
   "execution_count": 41,
   "id": "59c09ecc",
   "metadata": {},
   "outputs": [
    {
     "name": "stdout",
     "output_type": "stream",
     "text": [
      "true\n"
     ]
    }
   ],
   "source": [
    "list=[2,3,5,4,3,54,7]\n",
    "if 1 or 2 in list:\n",
    "    print(\"true\")"
   ]
  },
  {
   "cell_type": "code",
   "execution_count": 44,
   "id": "16fea615",
   "metadata": {},
   "outputs": [
    {
     "name": "stdout",
     "output_type": "stream",
     "text": [
      "false\n"
     ]
    }
   ],
   "source": [
    "list=[2,3,5,4,3,54,7]\n",
    "if (1 and 2) not in list:\n",
    "    print(\"true\")\n",
    "else:\n",
    "    print(\"false\")"
   ]
  },
  {
   "cell_type": "code",
   "execution_count": 54,
   "id": "bf122fad",
   "metadata": {},
   "outputs": [
    {
     "name": "stdout",
     "output_type": "stream",
     "text": [
      "Yes\n"
     ]
    }
   ],
   "source": [
    "list1=[2,3,5,4,9,4,7]\n",
    "list2=[2,566]\n",
    "for i in list1:\n",
    "    if i in list2:\n",
    "        print(\"Yes\")"
   ]
  },
  {
   "cell_type": "code",
   "execution_count": 56,
   "id": "62a056b7",
   "metadata": {},
   "outputs": [
    {
     "name": "stdout",
     "output_type": "stream",
     "text": [
      "28\n"
     ]
    }
   ],
   "source": [
    "def cal(x,y):\n",
    "    return x+y\n",
    "\n",
    "a=10\n",
    "b=18\n",
    "val=cal(a,b)\n",
    "print(val)"
   ]
  },
  {
   "cell_type": "code",
   "execution_count": 57,
   "id": "4660250a",
   "metadata": {},
   "outputs": [
    {
     "name": "stdout",
     "output_type": "stream",
     "text": [
      "180\n"
     ]
    }
   ],
   "source": [
    "def cal(x,y):\n",
    "    return x+y\n",
    "def cal(x,y):\n",
    "    return x*y\n",
    "\n",
    "a=10\n",
    "b=18\n",
    "val=cal(a,b)\n",
    "print(val)"
   ]
  },
  {
   "cell_type": "code",
   "execution_count": 59,
   "id": "c4f906a5",
   "metadata": {},
   "outputs": [
    {
     "name": "stdout",
     "output_type": "stream",
     "text": [
      "Enter the limit4\n"
     ]
    },
    {
     "ename": "TypeError",
     "evalue": "'int' object is not iterable",
     "output_type": "error",
     "traceback": [
      "\u001b[0;31m---------------------------------------------------------------------------\u001b[0m",
      "\u001b[0;31mTypeError\u001b[0m                                 Traceback (most recent call last)",
      "\u001b[0;32m/tmp/ipykernel_4035/334950162.py\u001b[0m in \u001b[0;36m<module>\u001b[0;34m\u001b[0m\n\u001b[1;32m      1\u001b[0m \u001b[0mn\u001b[0m\u001b[0;34m=\u001b[0m\u001b[0mint\u001b[0m\u001b[0;34m(\u001b[0m\u001b[0minput\u001b[0m\u001b[0;34m(\u001b[0m\u001b[0;34m\"Enter the limit\"\u001b[0m\u001b[0;34m)\u001b[0m\u001b[0;34m)\u001b[0m\u001b[0;34m\u001b[0m\u001b[0;34m\u001b[0m\u001b[0m\n\u001b[0;32m----> 2\u001b[0;31m \u001b[0;32mfor\u001b[0m \u001b[0mi\u001b[0m \u001b[0;32min\u001b[0m \u001b[0mn\u001b[0m\u001b[0;34m:\u001b[0m\u001b[0;34m\u001b[0m\u001b[0;34m\u001b[0m\u001b[0m\n\u001b[0m\u001b[1;32m      3\u001b[0m     \u001b[0mval\u001b[0m\u001b[0;34m=\u001b[0m\u001b[0mint\u001b[0m\u001b[0;34m(\u001b[0m\u001b[0minput\u001b[0m\u001b[0;34m(\u001b[0m\u001b[0;34m\"Enter the values\"\u001b[0m\u001b[0;34m)\u001b[0m\u001b[0;34m)\u001b[0m\u001b[0;34m\u001b[0m\u001b[0;34m\u001b[0m\u001b[0m\n\u001b[1;32m      4\u001b[0m \u001b[0mkey\u001b[0m\u001b[0;34m=\u001b[0m\u001b[0mint\u001b[0m\u001b[0;34m(\u001b[0m\u001b[0minput\u001b[0m\u001b[0;34m(\u001b[0m\u001b[0;34m\"Enter the key value\"\u001b[0m\u001b[0;34m)\u001b[0m\u001b[0;34m)\u001b[0m\u001b[0;34m\u001b[0m\u001b[0;34m\u001b[0m\u001b[0m\n\u001b[1;32m      5\u001b[0m \u001b[0;32mfor\u001b[0m \u001b[0mj\u001b[0m \u001b[0;32min\u001b[0m \u001b[0mval\u001b[0m\u001b[0;34m:\u001b[0m\u001b[0;34m\u001b[0m\u001b[0;34m\u001b[0m\u001b[0m\n",
      "\u001b[0;31mTypeError\u001b[0m: 'int' object is not iterable"
     ]
    }
   ],
   "source": [
    "n=int(input(\"Enter the limit\"))\n",
    "val=int(input(\"Enter the values\"))\n",
    "if n<=val:\n",
    "    key=int(input(\"Enter the key value\"))\n",
    "    for j in val:\n",
    "        if key==j:\n",
    "            print(\"found\")\n",
    "    else:\n",
    "        print(\"not found\")"
   ]
  },
  {
   "cell_type": "code",
   "execution_count": null,
   "id": "1458affb",
   "metadata": {},
   "outputs": [],
   "source": [
    "ele=sorted(\"Python\")\n",
    "print(ele) #it sorts the values based on the ASCII value "
   ]
  },
  {
   "cell_type": "code",
   "execution_count": null,
   "id": "142d8cc2",
   "metadata": {},
   "outputs": [],
   "source": []
  },
  {
   "cell_type": "code",
   "execution_count": 80,
   "id": "f459e4a0",
   "metadata": {},
   "outputs": [
    {
     "name": "stdout",
     "output_type": "stream",
     "text": [
      "Enter the value 1are\n",
      "Enter the value 2Ear\n",
      "Anagram\n"
     ]
    }
   ],
   "source": [
    "val1=input(\"Enter the value 1\")\n",
    "val2=input(\"Enter the value 2\")\n",
    "val1=val1.lower()\n",
    "val2=val2.lower()\n",
    "v1=sorted(val1)\n",
    "v2=sorted(val2)\n",
    "str1=\"\".join(v1)\n",
    "str2=\"\".join(v2)\n",
    "if(str1==str2):\n",
    "    print('Anagram')\n",
    "else:\n",
    "    print('Not Anagram')"
   ]
  },
  {
   "cell_type": "code",
   "execution_count": 116,
   "id": "e0da6cf7",
   "metadata": {},
   "outputs": [
    {
     "name": "stdout",
     "output_type": "stream",
     "text": [
      "************happy Thoughts, happy You*************\n",
      "4\n",
      "False\n",
      "True\n",
      "0\n",
      "-1\n",
      "-1\n",
      "6\n",
      "True\n",
      "False\n",
      "True\n",
      "Happy Thoughts, Happy You\n",
      "Happy thoughts, happy you\n",
      "HAPPY THOUGHTS, HAPPY YOU\n",
      "happy thoughts, happy you\n",
      "True\n",
      "True\n",
      "This 3Is & Vcet\n",
      "This 3is & vcet\n",
      "11\n",
      "-1\n"
     ]
    }
   ],
   "source": [
    "val=\"happy Thoughts, happy You\"\n",
    "print(val.center(50,'*'))\n",
    "print(val.count('h'))\n",
    "print(val.endswith('r',3,7))\n",
    "print(val.endswith('T',3,7)) #last-1\n",
    "print(val.find(\"happy\")) #used to find the word in the string if present return the index else return -1\n",
    "print(val.find(\"Happy\",3,8))\n",
    "print(val.find(\"Happy\",0,8))\n",
    "print(val.index('Thoughts')) #return the index of the string\n",
    "print(val.isprintable())\n",
    "print(val.isupper())\n",
    "value=\"12 UPPER\"\n",
    "print(value.isupper())\n",
    "print(val.title())\n",
    "print(val.capitalize())\n",
    "print(val.upper())\n",
    "print(val.lower())\n",
    "string=\"hello vcet\"\n",
    "print(string.islower())\n",
    "fun=\"This Is\"\n",
    "print(fun.istitle())\n",
    "fun1=\"this 3is & vCET\"\n",
    "print(fun1.title())\n",
    "print(fun1.capitalize())\n",
    "print(fun1.rindex('vCET'))\n",
    "print(fun1.rfind('11'))"
   ]
  },
  {
   "cell_type": "code",
   "execution_count": 118,
   "id": "2226a2a1",
   "metadata": {},
   "outputs": [
    {
     "name": "stdout",
     "output_type": "stream",
     "text": [
      "['Hello', 'world,', 'Good', 'morning']\n",
      "['Hell', ' w', 'rld, G', '', 'd m', 'rning']\n"
     ]
    }
   ],
   "source": [
    "string=\"Hello world, Good morning\"\n",
    "print(string.split(\" \"))\n",
    "print(string.split(\"o\"))"
   ]
  },
  {
   "cell_type": "code",
   "execution_count": 119,
   "id": "88fc66ff",
   "metadata": {},
   "outputs": [
    {
     "name": "stdout",
     "output_type": "stream",
     "text": [
      "Hello World, Good Morning\n"
     ]
    }
   ],
   "source": [
    "string=\"Hello world, Good morning\"\n",
    "print(string.title())"
   ]
  },
  {
   "cell_type": "code",
   "execution_count": 126,
   "id": "de632679",
   "metadata": {},
   "outputs": [
    {
     "name": "stdout",
     "output_type": "stream",
     "text": [
      "gninrom dooG ,dlrow olleH\n"
     ]
    }
   ],
   "source": [
    "string=\"Hello world, Good morning\"\n",
    "\n",
    "x=(reversed(string))\n",
    "x=\"\".join(x)\n",
    "print(x)"
   ]
  },
  {
   "cell_type": "code",
   "execution_count": 7,
   "id": "661ee2af",
   "metadata": {},
   "outputs": [
    {
     "name": "stdout",
     "output_type": "stream",
     "text": [
      "Enter element5\n",
      "Enter element9\n",
      "Enter element8\n",
      "Enter element6\n",
      "Enter elementdone\n",
      "[5, 9, 8, 6]\n",
      "Enter key5\n",
      "5 found at location 0\n"
     ]
    }
   ],
   "source": [
    "def ls(li,key):\n",
    "    for i in range(len(li)):\n",
    "        if li[i]==key:\n",
    "            return i\n",
    "    return -1\n",
    "\n",
    "lst=[]\n",
    "while 1:\n",
    "    ele=input(\"Enter element\")\n",
    "    if ele==\"done\":\n",
    "        break\n",
    "    lst.append(int(ele))\n",
    "print(lst)\n",
    "key=int(input(\"Enter key\"))\n",
    "res=ls(lst,key)\n",
    "if res==-1:\n",
    "    print(\"Element not found\")\n",
    "else:\n",
    "    print(\"%d found at location %d\"%(key,res))"
   ]
  },
  {
   "cell_type": "code",
   "execution_count": 5,
   "id": "eca8c0ef",
   "metadata": {},
   "outputs": [],
   "source": [
    "#in pyhton there is no concept of function overloading. if we write 3 functions with same name and different parameters it will perform with last function. if the parameters are not matched it will throw an error\n",
    "#function overloading performed by using multipledispatch library"
   ]
  },
  {
   "cell_type": "code",
   "execution_count": 9,
   "id": "3b311e28",
   "metadata": {},
   "outputs": [
    {
     "name": "stdout",
     "output_type": "stream",
     "text": [
      "I am Kiran\n",
      "I got rank 1\n",
      "I am Indu\n",
      "I got rank 2\n"
     ]
    }
   ],
   "source": [
    "class Students:\n",
    "    def __init__(self, name, rank, points):\n",
    "        self.name = name\n",
    "        self.rank = rank\n",
    "        self.points = points\n",
    "        \n",
    "    def printfunction(self):\n",
    "        print(\"I am\",self.name)\n",
    "        print(\"I got rank\",self.rank)\n",
    "        \n",
    "str1 = Students(\"Kiran\",1,100)\n",
    "str2 = Students(\"Indu\",2,90)\n",
    "\n",
    "str1.printfunction()\n",
    "str2.printfunction()"
   ]
  },
  {
   "cell_type": "code",
   "execution_count": 13,
   "id": "d5504219",
   "metadata": {},
   "outputs": [
    {
     "name": "stdout",
     "output_type": "stream",
     "text": [
      "Hello Parent\n",
      "Hello Child\n"
     ]
    }
   ],
   "source": [
    "class parent:\n",
    "    def func1(self):\n",
    "        print(\"Hello Parent\")\n",
    "\n",
    "class child(parent):\n",
    "    def func2(self):\n",
    "        print(\"Hello Child\")\n",
    "        \n",
    "test = child()\n",
    "test.func1()\n",
    "test.func2()"
   ]
  },
  {
   "cell_type": "code",
   "execution_count": 15,
   "id": "8f578ca4",
   "metadata": {},
   "outputs": [
    {
     "name": "stdout",
     "output_type": "stream",
     "text": [
      "30\n",
      "60\n",
      "0\n"
     ]
    }
   ],
   "source": [
    "class Addition:\n",
    "    def my_sum(self, a = None, b = None, c = None):\n",
    "        s = 0\n",
    "        if a != None and b != None and c != None:\n",
    "            s = a + b + c\n",
    "        elif a != None and b != None:\n",
    "            s = a + b\n",
    "        return s\n",
    "\n",
    "obj = Addition()\n",
    "print(obj.my_sum(10,20))\n",
    "print(obj.my_sum(20,10,30))\n",
    "print(obj.my_sum(20))"
   ]
  },
  {
   "cell_type": "code",
   "execution_count": 16,
   "id": "467eae75",
   "metadata": {},
   "outputs": [
    {
     "name": "stdout",
     "output_type": "stream",
     "text": [
      "51.03000000000001\n",
      "48\n",
      "15\n"
     ]
    }
   ],
   "source": [
    "from multipledispatch import  dispatch\n",
    "\n",
    "@dispatch(int, int)\n",
    "def mul(a, b):\n",
    "    return a * b\n",
    "\n",
    "@dispatch(int, int, int)\n",
    "def mul(a, b, c):\n",
    "    return a * b * c\n",
    "\n",
    "@dispatch(float, float, float)\n",
    "def mul(a, b, c):\n",
    "    return a * b * c\n",
    "\n",
    "print(mul(2.1, 4.5, 5.4))\n",
    "print(mul(2, 4, 6))\n",
    "print(mul(3, 5))"
   ]
  },
  {
   "cell_type": "code",
   "execution_count": 27,
   "id": "8c59847a",
   "metadata": {},
   "outputs": [
    {
     "name": "stdout",
     "output_type": "stream",
     "text": [
      "Enter the number of elements4\n",
      "Enter 4 array elements\n",
      "[]\n"
     ]
    }
   ],
   "source": [
    "n=int(input(\"Enter the number of elements\"))\n",
    "print(\"Enter\",n,\"array elements\")\n",
    "for i in range(n):\n",
    "    l=[]\n",
    "l.sort()\n",
    "print(l)\n",
    "# val=int(input(\"Enter the element to be inserted\"))\n",
    "# for i in range(len(l)):\n",
    "#     if val>l[i]:\n",
    "        "
   ]
  },
  {
   "cell_type": "markdown",
   "id": "fb2f77a3",
   "metadata": {},
   "source": []
  },
  {
   "cell_type": "code",
   "execution_count": 3,
   "id": "040c9760",
   "metadata": {},
   "outputs": [],
   "source": [
    "###############################   PANDAS    ##################################\n",
    "\n",
    "import pandas as pd\n",
    "import numpy as np"
   ]
  },
  {
   "cell_type": "code",
   "execution_count": 29,
   "id": "207a4de9",
   "metadata": {},
   "outputs": [],
   "source": [
    "d1 = {'name':['Sibin','Shruthi','Puneeth','Rashmi'],'class':['MCA','MBA','CS','MECH'],'marks':[100,30,80,60]}"
   ]
  },
  {
   "cell_type": "code",
   "execution_count": 30,
   "id": "86868db5",
   "metadata": {},
   "outputs": [],
   "source": [
    "df = pd.DataFrame(d1)"
   ]
  },
  {
   "cell_type": "code",
   "execution_count": 31,
   "id": "026c8382",
   "metadata": {},
   "outputs": [
    {
     "data": {
      "text/html": [
       "<div>\n",
       "<style scoped>\n",
       "    .dataframe tbody tr th:only-of-type {\n",
       "        vertical-align: middle;\n",
       "    }\n",
       "\n",
       "    .dataframe tbody tr th {\n",
       "        vertical-align: top;\n",
       "    }\n",
       "\n",
       "    .dataframe thead th {\n",
       "        text-align: right;\n",
       "    }\n",
       "</style>\n",
       "<table border=\"1\" class=\"dataframe\">\n",
       "  <thead>\n",
       "    <tr style=\"text-align: right;\">\n",
       "      <th></th>\n",
       "      <th>name</th>\n",
       "      <th>class</th>\n",
       "      <th>marks</th>\n",
       "    </tr>\n",
       "  </thead>\n",
       "  <tbody>\n",
       "    <tr>\n",
       "      <th>0</th>\n",
       "      <td>Sibin</td>\n",
       "      <td>MCA</td>\n",
       "      <td>100</td>\n",
       "    </tr>\n",
       "    <tr>\n",
       "      <th>1</th>\n",
       "      <td>Shruthi</td>\n",
       "      <td>MBA</td>\n",
       "      <td>30</td>\n",
       "    </tr>\n",
       "    <tr>\n",
       "      <th>2</th>\n",
       "      <td>Puneeth</td>\n",
       "      <td>CS</td>\n",
       "      <td>80</td>\n",
       "    </tr>\n",
       "    <tr>\n",
       "      <th>3</th>\n",
       "      <td>Rashmi</td>\n",
       "      <td>MECH</td>\n",
       "      <td>60</td>\n",
       "    </tr>\n",
       "  </tbody>\n",
       "</table>\n",
       "</div>"
      ],
      "text/plain": [
       "      name class  marks\n",
       "0    Sibin   MCA    100\n",
       "1  Shruthi   MBA     30\n",
       "2  Puneeth    CS     80\n",
       "3   Rashmi  MECH     60"
      ]
     },
     "execution_count": 31,
     "metadata": {},
     "output_type": "execute_result"
    }
   ],
   "source": [
    "df"
   ]
  },
  {
   "cell_type": "code",
   "execution_count": 6,
   "id": "5008d4a4",
   "metadata": {},
   "outputs": [],
   "source": [
    "df = pd.read_csv(\"dataset.csv\")  #comma separated values"
   ]
  },
  {
   "cell_type": "code",
   "execution_count": 7,
   "id": "5d52ea83",
   "metadata": {},
   "outputs": [
    {
     "data": {
      "text/html": [
       "<div>\n",
       "<style scoped>\n",
       "    .dataframe tbody tr th:only-of-type {\n",
       "        vertical-align: middle;\n",
       "    }\n",
       "\n",
       "    .dataframe tbody tr th {\n",
       "        vertical-align: top;\n",
       "    }\n",
       "\n",
       "    .dataframe thead th {\n",
       "        text-align: right;\n",
       "    }\n",
       "</style>\n",
       "<table border=\"1\" class=\"dataframe\">\n",
       "  <thead>\n",
       "    <tr style=\"text-align: right;\">\n",
       "      <th></th>\n",
       "      <th>Sl. No.</th>\n",
       "      <th>Name</th>\n",
       "      <th>Qualification</th>\n",
       "      <th>Mobile</th>\n",
       "      <th>Address</th>\n",
       "    </tr>\n",
       "  </thead>\n",
       "  <tbody>\n",
       "    <tr>\n",
       "      <th>0</th>\n",
       "      <td>1</td>\n",
       "      <td>Puneeth</td>\n",
       "      <td>MCA</td>\n",
       "      <td>9606433418</td>\n",
       "      <td>Vittal</td>\n",
       "    </tr>\n",
       "    <tr>\n",
       "      <th>1</th>\n",
       "      <td>2</td>\n",
       "      <td>Rashmi</td>\n",
       "      <td>MBA</td>\n",
       "      <td>9874563210</td>\n",
       "      <td>Vittal</td>\n",
       "    </tr>\n",
       "    <tr>\n",
       "      <th>2</th>\n",
       "      <td>3</td>\n",
       "      <td>Shrunga</td>\n",
       "      <td>Civil</td>\n",
       "      <td>9638527410</td>\n",
       "      <td>Thumkur</td>\n",
       "    </tr>\n",
       "    <tr>\n",
       "      <th>3</th>\n",
       "      <td>4</td>\n",
       "      <td>Puneeth</td>\n",
       "      <td>MECH</td>\n",
       "      <td>9654786320</td>\n",
       "      <td>Belthangadi</td>\n",
       "    </tr>\n",
       "    <tr>\n",
       "      <th>4</th>\n",
       "      <td>5</td>\n",
       "      <td>Shruthi</td>\n",
       "      <td>CS</td>\n",
       "      <td>9654782312</td>\n",
       "      <td>Kumbra</td>\n",
       "    </tr>\n",
       "    <tr>\n",
       "      <th>5</th>\n",
       "      <td>6</td>\n",
       "      <td>Geetha</td>\n",
       "      <td>CSE</td>\n",
       "      <td>6598745230</td>\n",
       "      <td>Vittal</td>\n",
       "    </tr>\n",
       "    <tr>\n",
       "      <th>6</th>\n",
       "      <td>7</td>\n",
       "      <td>Soorya</td>\n",
       "      <td>AI</td>\n",
       "      <td>9875412036</td>\n",
       "      <td>Puttur</td>\n",
       "    </tr>\n",
       "    <tr>\n",
       "      <th>7</th>\n",
       "      <td>8</td>\n",
       "      <td>Mokshith</td>\n",
       "      <td>MA</td>\n",
       "      <td>8974563250</td>\n",
       "      <td>NaN</td>\n",
       "    </tr>\n",
       "    <tr>\n",
       "      <th>8</th>\n",
       "      <td>9</td>\n",
       "      <td>Shivani</td>\n",
       "      <td>MCOM</td>\n",
       "      <td>8569745632</td>\n",
       "      <td>Udupi</td>\n",
       "    </tr>\n",
       "    <tr>\n",
       "      <th>9</th>\n",
       "      <td>10</td>\n",
       "      <td>Vriddhi</td>\n",
       "      <td>MCA</td>\n",
       "      <td>9874561230</td>\n",
       "      <td>Puttur</td>\n",
       "    </tr>\n",
       "  </tbody>\n",
       "</table>\n",
       "</div>"
      ],
      "text/plain": [
       "   Sl. No.      Name Qualification      Mobile      Address\n",
       "0        1   Puneeth           MCA  9606433418       Vittal\n",
       "1        2    Rashmi           MBA  9874563210       Vittal\n",
       "2        3   Shrunga         Civil  9638527410      Thumkur\n",
       "3        4   Puneeth          MECH  9654786320  Belthangadi\n",
       "4        5   Shruthi            CS  9654782312       Kumbra\n",
       "5        6    Geetha           CSE  6598745230       Vittal\n",
       "6        7    Soorya            AI  9875412036       Puttur\n",
       "7        8  Mokshith            MA  8974563250          NaN\n",
       "8        9   Shivani          MCOM  8569745632        Udupi\n",
       "9       10   Vriddhi           MCA  9874561230       Puttur"
      ]
     },
     "execution_count": 7,
     "metadata": {},
     "output_type": "execute_result"
    }
   ],
   "source": [
    "df#dataframe"
   ]
  },
  {
   "cell_type": "code",
   "execution_count": 8,
   "id": "16a1cfdc",
   "metadata": {},
   "outputs": [
    {
     "data": {
      "text/html": [
       "<div>\n",
       "<style scoped>\n",
       "    .dataframe tbody tr th:only-of-type {\n",
       "        vertical-align: middle;\n",
       "    }\n",
       "\n",
       "    .dataframe tbody tr th {\n",
       "        vertical-align: top;\n",
       "    }\n",
       "\n",
       "    .dataframe thead th {\n",
       "        text-align: right;\n",
       "    }\n",
       "</style>\n",
       "<table border=\"1\" class=\"dataframe\">\n",
       "  <thead>\n",
       "    <tr style=\"text-align: right;\">\n",
       "      <th></th>\n",
       "      <th>Sl. No.</th>\n",
       "      <th>Name</th>\n",
       "      <th>Qualification</th>\n",
       "      <th>Mobile</th>\n",
       "      <th>Address</th>\n",
       "    </tr>\n",
       "  </thead>\n",
       "  <tbody>\n",
       "    <tr>\n",
       "      <th>0</th>\n",
       "      <td>1</td>\n",
       "      <td>Puneeth</td>\n",
       "      <td>MCA</td>\n",
       "      <td>9606433418</td>\n",
       "      <td>Vittal</td>\n",
       "    </tr>\n",
       "    <tr>\n",
       "      <th>1</th>\n",
       "      <td>2</td>\n",
       "      <td>Rashmi</td>\n",
       "      <td>MBA</td>\n",
       "      <td>9874563210</td>\n",
       "      <td>Vittal</td>\n",
       "    </tr>\n",
       "    <tr>\n",
       "      <th>2</th>\n",
       "      <td>3</td>\n",
       "      <td>Shrunga</td>\n",
       "      <td>Civil</td>\n",
       "      <td>9638527410</td>\n",
       "      <td>Thumkur</td>\n",
       "    </tr>\n",
       "    <tr>\n",
       "      <th>3</th>\n",
       "      <td>4</td>\n",
       "      <td>Puneeth</td>\n",
       "      <td>MECH</td>\n",
       "      <td>9654786320</td>\n",
       "      <td>Belthangadi</td>\n",
       "    </tr>\n",
       "    <tr>\n",
       "      <th>4</th>\n",
       "      <td>5</td>\n",
       "      <td>Shruthi</td>\n",
       "      <td>CS</td>\n",
       "      <td>9654782312</td>\n",
       "      <td>Kumbra</td>\n",
       "    </tr>\n",
       "  </tbody>\n",
       "</table>\n",
       "</div>"
      ],
      "text/plain": [
       "   Sl. No.     Name Qualification      Mobile      Address\n",
       "0        1  Puneeth           MCA  9606433418       Vittal\n",
       "1        2   Rashmi           MBA  9874563210       Vittal\n",
       "2        3  Shrunga         Civil  9638527410      Thumkur\n",
       "3        4  Puneeth          MECH  9654786320  Belthangadi\n",
       "4        5  Shruthi            CS  9654782312       Kumbra"
      ]
     },
     "execution_count": 8,
     "metadata": {},
     "output_type": "execute_result"
    }
   ],
   "source": [
    "df.head()"
   ]
  },
  {
   "cell_type": "code",
   "execution_count": 9,
   "id": "28396168",
   "metadata": {},
   "outputs": [
    {
     "data": {
      "text/html": [
       "<div>\n",
       "<style scoped>\n",
       "    .dataframe tbody tr th:only-of-type {\n",
       "        vertical-align: middle;\n",
       "    }\n",
       "\n",
       "    .dataframe tbody tr th {\n",
       "        vertical-align: top;\n",
       "    }\n",
       "\n",
       "    .dataframe thead th {\n",
       "        text-align: right;\n",
       "    }\n",
       "</style>\n",
       "<table border=\"1\" class=\"dataframe\">\n",
       "  <thead>\n",
       "    <tr style=\"text-align: right;\">\n",
       "      <th></th>\n",
       "      <th>Sl. No.</th>\n",
       "      <th>Name</th>\n",
       "      <th>Qualification</th>\n",
       "      <th>Mobile</th>\n",
       "      <th>Address</th>\n",
       "    </tr>\n",
       "  </thead>\n",
       "  <tbody>\n",
       "    <tr>\n",
       "      <th>0</th>\n",
       "      <td>1</td>\n",
       "      <td>Puneeth</td>\n",
       "      <td>MCA</td>\n",
       "      <td>9606433418</td>\n",
       "      <td>Vittal</td>\n",
       "    </tr>\n",
       "    <tr>\n",
       "      <th>1</th>\n",
       "      <td>2</td>\n",
       "      <td>Rashmi</td>\n",
       "      <td>MBA</td>\n",
       "      <td>9874563210</td>\n",
       "      <td>Vittal</td>\n",
       "    </tr>\n",
       "    <tr>\n",
       "      <th>2</th>\n",
       "      <td>3</td>\n",
       "      <td>Shrunga</td>\n",
       "      <td>Civil</td>\n",
       "      <td>9638527410</td>\n",
       "      <td>Thumkur</td>\n",
       "    </tr>\n",
       "  </tbody>\n",
       "</table>\n",
       "</div>"
      ],
      "text/plain": [
       "   Sl. No.     Name Qualification      Mobile  Address\n",
       "0        1  Puneeth           MCA  9606433418   Vittal\n",
       "1        2   Rashmi           MBA  9874563210   Vittal\n",
       "2        3  Shrunga         Civil  9638527410  Thumkur"
      ]
     },
     "execution_count": 9,
     "metadata": {},
     "output_type": "execute_result"
    }
   ],
   "source": [
    "df.head(3)"
   ]
  },
  {
   "cell_type": "code",
   "execution_count": 10,
   "id": "8246183a",
   "metadata": {},
   "outputs": [
    {
     "data": {
      "text/html": [
       "<div>\n",
       "<style scoped>\n",
       "    .dataframe tbody tr th:only-of-type {\n",
       "        vertical-align: middle;\n",
       "    }\n",
       "\n",
       "    .dataframe tbody tr th {\n",
       "        vertical-align: top;\n",
       "    }\n",
       "\n",
       "    .dataframe thead th {\n",
       "        text-align: right;\n",
       "    }\n",
       "</style>\n",
       "<table border=\"1\" class=\"dataframe\">\n",
       "  <thead>\n",
       "    <tr style=\"text-align: right;\">\n",
       "      <th></th>\n",
       "      <th>Sl. No.</th>\n",
       "      <th>Name</th>\n",
       "      <th>Qualification</th>\n",
       "      <th>Mobile</th>\n",
       "      <th>Address</th>\n",
       "    </tr>\n",
       "  </thead>\n",
       "  <tbody>\n",
       "    <tr>\n",
       "      <th>5</th>\n",
       "      <td>6</td>\n",
       "      <td>Geetha</td>\n",
       "      <td>CSE</td>\n",
       "      <td>6598745230</td>\n",
       "      <td>Vittal</td>\n",
       "    </tr>\n",
       "    <tr>\n",
       "      <th>6</th>\n",
       "      <td>7</td>\n",
       "      <td>Soorya</td>\n",
       "      <td>AI</td>\n",
       "      <td>9875412036</td>\n",
       "      <td>Puttur</td>\n",
       "    </tr>\n",
       "    <tr>\n",
       "      <th>7</th>\n",
       "      <td>8</td>\n",
       "      <td>Mokshith</td>\n",
       "      <td>MA</td>\n",
       "      <td>8974563250</td>\n",
       "      <td>NaN</td>\n",
       "    </tr>\n",
       "    <tr>\n",
       "      <th>8</th>\n",
       "      <td>9</td>\n",
       "      <td>Shivani</td>\n",
       "      <td>MCOM</td>\n",
       "      <td>8569745632</td>\n",
       "      <td>Udupi</td>\n",
       "    </tr>\n",
       "    <tr>\n",
       "      <th>9</th>\n",
       "      <td>10</td>\n",
       "      <td>Vriddhi</td>\n",
       "      <td>MCA</td>\n",
       "      <td>9874561230</td>\n",
       "      <td>Puttur</td>\n",
       "    </tr>\n",
       "  </tbody>\n",
       "</table>\n",
       "</div>"
      ],
      "text/plain": [
       "   Sl. No.      Name Qualification      Mobile Address\n",
       "5        6    Geetha           CSE  6598745230  Vittal\n",
       "6        7    Soorya            AI  9875412036  Puttur\n",
       "7        8  Mokshith            MA  8974563250     NaN\n",
       "8        9   Shivani          MCOM  8569745632   Udupi\n",
       "9       10   Vriddhi           MCA  9874561230  Puttur"
      ]
     },
     "execution_count": 10,
     "metadata": {},
     "output_type": "execute_result"
    }
   ],
   "source": [
    "df.tail()"
   ]
  },
  {
   "cell_type": "code",
   "execution_count": 11,
   "id": "91b564bd",
   "metadata": {},
   "outputs": [
    {
     "data": {
      "text/html": [
       "<div>\n",
       "<style scoped>\n",
       "    .dataframe tbody tr th:only-of-type {\n",
       "        vertical-align: middle;\n",
       "    }\n",
       "\n",
       "    .dataframe tbody tr th {\n",
       "        vertical-align: top;\n",
       "    }\n",
       "\n",
       "    .dataframe thead th {\n",
       "        text-align: right;\n",
       "    }\n",
       "</style>\n",
       "<table border=\"1\" class=\"dataframe\">\n",
       "  <thead>\n",
       "    <tr style=\"text-align: right;\">\n",
       "      <th></th>\n",
       "      <th>Sl. No.</th>\n",
       "      <th>Name</th>\n",
       "      <th>Qualification</th>\n",
       "      <th>Mobile</th>\n",
       "      <th>Address</th>\n",
       "    </tr>\n",
       "  </thead>\n",
       "  <tbody>\n",
       "    <tr>\n",
       "      <th>7</th>\n",
       "      <td>8</td>\n",
       "      <td>Mokshith</td>\n",
       "      <td>MA</td>\n",
       "      <td>8974563250</td>\n",
       "      <td>NaN</td>\n",
       "    </tr>\n",
       "    <tr>\n",
       "      <th>8</th>\n",
       "      <td>9</td>\n",
       "      <td>Shivani</td>\n",
       "      <td>MCOM</td>\n",
       "      <td>8569745632</td>\n",
       "      <td>Udupi</td>\n",
       "    </tr>\n",
       "    <tr>\n",
       "      <th>9</th>\n",
       "      <td>10</td>\n",
       "      <td>Vriddhi</td>\n",
       "      <td>MCA</td>\n",
       "      <td>9874561230</td>\n",
       "      <td>Puttur</td>\n",
       "    </tr>\n",
       "  </tbody>\n",
       "</table>\n",
       "</div>"
      ],
      "text/plain": [
       "   Sl. No.      Name Qualification      Mobile Address\n",
       "7        8  Mokshith            MA  8974563250     NaN\n",
       "8        9   Shivani          MCOM  8569745632   Udupi\n",
       "9       10   Vriddhi           MCA  9874561230  Puttur"
      ]
     },
     "execution_count": 11,
     "metadata": {},
     "output_type": "execute_result"
    }
   ],
   "source": [
    "df.tail(3)"
   ]
  },
  {
   "cell_type": "code",
   "execution_count": 12,
   "id": "9bd46696",
   "metadata": {},
   "outputs": [
    {
     "data": {
      "text/plain": [
       "0     Puneeth\n",
       "1      Rashmi\n",
       "2     Shrunga\n",
       "3     Puneeth\n",
       "4     Shruthi\n",
       "5      Geetha\n",
       "6      Soorya\n",
       "7    Mokshith\n",
       "8     Shivani\n",
       "9     Vriddhi\n",
       "Name: Name, dtype: object"
      ]
     },
     "execution_count": 12,
     "metadata": {},
     "output_type": "execute_result"
    }
   ],
   "source": [
    "df[\"Name\"] #series"
   ]
  },
  {
   "cell_type": "code",
   "execution_count": 13,
   "id": "ce2e8cf8",
   "metadata": {},
   "outputs": [
    {
     "data": {
      "text/html": [
       "<div>\n",
       "<style scoped>\n",
       "    .dataframe tbody tr th:only-of-type {\n",
       "        vertical-align: middle;\n",
       "    }\n",
       "\n",
       "    .dataframe tbody tr th {\n",
       "        vertical-align: top;\n",
       "    }\n",
       "\n",
       "    .dataframe thead th {\n",
       "        text-align: right;\n",
       "    }\n",
       "</style>\n",
       "<table border=\"1\" class=\"dataframe\">\n",
       "  <thead>\n",
       "    <tr style=\"text-align: right;\">\n",
       "      <th></th>\n",
       "      <th>Sl. No.</th>\n",
       "      <th>Mobile</th>\n",
       "    </tr>\n",
       "  </thead>\n",
       "  <tbody>\n",
       "    <tr>\n",
       "      <th>count</th>\n",
       "      <td>10.00000</td>\n",
       "      <td>1.000000e+01</td>\n",
       "    </tr>\n",
       "    <tr>\n",
       "      <th>mean</th>\n",
       "      <td>5.50000</td>\n",
       "      <td>9.232212e+09</td>\n",
       "    </tr>\n",
       "    <tr>\n",
       "      <th>std</th>\n",
       "      <td>3.02765</td>\n",
       "      <td>1.018801e+09</td>\n",
       "    </tr>\n",
       "    <tr>\n",
       "      <th>min</th>\n",
       "      <td>1.00000</td>\n",
       "      <td>6.598745e+09</td>\n",
       "    </tr>\n",
       "    <tr>\n",
       "      <th>25%</th>\n",
       "      <td>3.25000</td>\n",
       "      <td>9.132531e+09</td>\n",
       "    </tr>\n",
       "    <tr>\n",
       "      <th>50%</th>\n",
       "      <td>5.50000</td>\n",
       "      <td>9.646655e+09</td>\n",
       "    </tr>\n",
       "    <tr>\n",
       "      <th>75%</th>\n",
       "      <td>7.75000</td>\n",
       "      <td>9.819618e+09</td>\n",
       "    </tr>\n",
       "    <tr>\n",
       "      <th>max</th>\n",
       "      <td>10.00000</td>\n",
       "      <td>9.875412e+09</td>\n",
       "    </tr>\n",
       "  </tbody>\n",
       "</table>\n",
       "</div>"
      ],
      "text/plain": [
       "        Sl. No.        Mobile\n",
       "count  10.00000  1.000000e+01\n",
       "mean    5.50000  9.232212e+09\n",
       "std     3.02765  1.018801e+09\n",
       "min     1.00000  6.598745e+09\n",
       "25%     3.25000  9.132531e+09\n",
       "50%     5.50000  9.646655e+09\n",
       "75%     7.75000  9.819618e+09\n",
       "max    10.00000  9.875412e+09"
      ]
     },
     "execution_count": 13,
     "metadata": {},
     "output_type": "execute_result"
    }
   ],
   "source": [
    "df.describe()"
   ]
  },
  {
   "cell_type": "code",
   "execution_count": 14,
   "id": "3c54317b",
   "metadata": {},
   "outputs": [
    {
     "data": {
      "text/plain": [
       "pandas.core.frame.DataFrame"
      ]
     },
     "execution_count": 14,
     "metadata": {},
     "output_type": "execute_result"
    }
   ],
   "source": [
    "type(df)"
   ]
  },
  {
   "cell_type": "code",
   "execution_count": 15,
   "id": "f649fea5",
   "metadata": {},
   "outputs": [
    {
     "data": {
      "text/plain": [
       "pandas.core.series.Series"
      ]
     },
     "execution_count": 15,
     "metadata": {},
     "output_type": "execute_result"
    }
   ],
   "source": [
    "type(df[\"Name\"])"
   ]
  },
  {
   "cell_type": "code",
   "execution_count": 2,
   "id": "6eb7285a",
   "metadata": {},
   "outputs": [
    {
     "name": "stdout",
     "output_type": "stream",
     "text": [
      "(7, 5)\n"
     ]
    },
    {
     "data": {
      "text/html": [
       "<div>\n",
       "<style scoped>\n",
       "    .dataframe tbody tr th:only-of-type {\n",
       "        vertical-align: middle;\n",
       "    }\n",
       "\n",
       "    .dataframe tbody tr th {\n",
       "        vertical-align: top;\n",
       "    }\n",
       "\n",
       "    .dataframe thead th {\n",
       "        text-align: right;\n",
       "    }\n",
       "</style>\n",
       "<table border=\"1\" class=\"dataframe\">\n",
       "  <thead>\n",
       "    <tr style=\"text-align: right;\">\n",
       "      <th></th>\n",
       "      <th>Sl. No.</th>\n",
       "      <th>Name</th>\n",
       "      <th>Qualification</th>\n",
       "      <th>Mobile</th>\n",
       "      <th>Address</th>\n",
       "    </tr>\n",
       "  </thead>\n",
       "  <tbody>\n",
       "    <tr>\n",
       "      <th>2</th>\n",
       "      <td>3</td>\n",
       "      <td>Shrunga</td>\n",
       "      <td>Civil</td>\n",
       "      <td>9.638527e+09</td>\n",
       "      <td>Ubar</td>\n",
       "    </tr>\n",
       "    <tr>\n",
       "      <th>4</th>\n",
       "      <td>5</td>\n",
       "      <td>Shruthi</td>\n",
       "      <td>CS</td>\n",
       "      <td>9.654782e+09</td>\n",
       "      <td>Kumbra</td>\n",
       "    </tr>\n",
       "    <tr>\n",
       "      <th>5</th>\n",
       "      <td>6</td>\n",
       "      <td>Geetha</td>\n",
       "      <td>CSE</td>\n",
       "      <td>6.598745e+09</td>\n",
       "      <td>Vittal</td>\n",
       "    </tr>\n",
       "    <tr>\n",
       "      <th>6</th>\n",
       "      <td>7</td>\n",
       "      <td>Soorya</td>\n",
       "      <td>AI</td>\n",
       "      <td>8.687273e+09</td>\n",
       "      <td>Puttur</td>\n",
       "    </tr>\n",
       "    <tr>\n",
       "      <th>7</th>\n",
       "      <td>8</td>\n",
       "      <td>Rashmi</td>\n",
       "      <td>MA</td>\n",
       "      <td>8.974563e+09</td>\n",
       "      <td>Ubar</td>\n",
       "    </tr>\n",
       "    <tr>\n",
       "      <th>8</th>\n",
       "      <td>9</td>\n",
       "      <td>Puneeth</td>\n",
       "      <td>MCOM</td>\n",
       "      <td>8.569746e+09</td>\n",
       "      <td>Udupi</td>\n",
       "    </tr>\n",
       "    <tr>\n",
       "      <th>9</th>\n",
       "      <td>10</td>\n",
       "      <td>Vriddhi</td>\n",
       "      <td>MCA</td>\n",
       "      <td>8.687273e+09</td>\n",
       "      <td>Puttur</td>\n",
       "    </tr>\n",
       "  </tbody>\n",
       "</table>\n",
       "</div>"
      ],
      "text/plain": [
       "   Sl. No.     Name Qualification        Mobile Address\n",
       "2        3  Shrunga         Civil  9.638527e+09    Ubar\n",
       "4        5  Shruthi            CS  9.654782e+09  Kumbra\n",
       "5        6   Geetha           CSE  6.598745e+09  Vittal\n",
       "6        7   Soorya            AI  8.687273e+09  Puttur\n",
       "7        8   Rashmi            MA  8.974563e+09    Ubar\n",
       "8        9  Puneeth          MCOM  8.569746e+09   Udupi\n",
       "9       10  Vriddhi           MCA  8.687273e+09  Puttur"
      ]
     },
     "execution_count": 2,
     "metadata": {},
     "output_type": "execute_result"
    }
   ],
   "source": [
    "import pandas as pd #library..used to work with dataset\n",
    "import numpy as np #Library...Provide 2D array...takes only 400bytes...gives all types of mathematics,statistics\n",
    "#numpy used for scientific computing(large data) \n",
    "\n",
    "#Read the data from the dataset into your pandas dataframe\n",
    "data = pd.read_csv(\"dataset.csv\")\n",
    "#read_json\n",
    "#read_html\n",
    "#read_sql\n",
    "#read_pickle\n",
    "\n",
    "data.head(5)\n",
    "\n",
    "#remove duplicate rows\n",
    "data.drop_duplicates(subset = [\"Name\"],keep = \"last\",inplace = True)\n",
    "data.head(10)\n",
    "\n",
    "data.isnull().sum()#sum of all the fields which is empty\n",
    "\n",
    "#Missing Data:\n",
    "#Size of original dataset\n",
    "print(data.shape) #display the total number of rows and columns\n",
    "\n",
    "#Dropping the missing rows\n",
    "df_dropped = data.dropna() #dropping null fields\n",
    "data.head()\n",
    "\n",
    "#Fill with provided value\n",
    "data['Address'] = data['Address'].fillna('Ubar')\n",
    "data.head()\n",
    "\n",
    "#Fill with provided value\n",
    "mean_val = data['Mobile'].mean()\n",
    "data['Mobile'] = data['Mobile'].fillna(mean_val)\n",
    "data"
   ]
  },
  {
   "cell_type": "code",
   "execution_count": 3,
   "id": "5e194222",
   "metadata": {},
   "outputs": [
    {
     "name": "stdout",
     "output_type": "stream",
     "text": [
      "      Col1  Col2  Col3\n",
      "Row1     1     1     1\n",
      "Row2     2     3     8\n",
      "Row3     3     5    27\n",
      "\n",
      "Trace of given 3X3 Matrix\n",
      "31\n"
     ]
    }
   ],
   "source": [
    "#importing the modules\n",
    "import pandas as pd\n",
    "import numpy as np\n",
    "\n",
    "#creating the Numpy array\n",
    "array=np.array([[1,1,1],[2,3,8],[3,5,27],])\n",
    "\n",
    "#creating the list of index names\n",
    "index_values=['Row1','Row2','Row3']\n",
    "\n",
    "#creating the list of column names\n",
    "column_values=['Col1','Col2','Col3']\n",
    "\n",
    "#creating the dataframe\n",
    "df = pd.DataFrame(data = array,\n",
    "                 index = index_values,\n",
    "                 columns = column_values)\n",
    "\n",
    "#displaying the dataframe\n",
    "print(df)\n",
    "\n",
    "#calculating the Trace of Matrix\n",
    "trace = np.trace(df)\n",
    "print(\"\\nTrace of given 3X3 Matrix\")\n",
    "print(trace)\n",
    "#Trace of the matrix refers to the sum of diagonal elements"
   ]
  },
  {
   "cell_type": "code",
   "execution_count": 8,
   "id": "52c07520",
   "metadata": {},
   "outputs": [
    {
     "name": "stdout",
     "output_type": "stream",
     "text": [
      "Enter number of elements:4\n",
      "2\n",
      "5\n",
      "1\n",
      "-9\n",
      "[2, 5, 1, -9]\n",
      "Sorted array = [-9  1  2  5]\n",
      "Enter element to search:2\n",
      "Index = (array([2]),)\n",
      "Enter Splitting value:4\n",
      "[array([-9]), array([1]), array([2]), array([5])]\n"
     ]
    }
   ],
   "source": [
    "#Array manipulation, Searching, Sorting and splitting\n",
    "\n",
    "import numpy as np\n",
    "\n",
    "lt = []\n",
    "\n",
    "n = int(input(\"Enter number of elements:\"))\n",
    "\n",
    "for i in range(0,n):\n",
    "    ele = int(input())\n",
    "    lt.append(ele)\n",
    "print(lt)\n",
    "\n",
    "arr = np.array(lt)\n",
    "arr = np.sort(arr)\n",
    "print(\"Sorted array = {}\".format(arr))\n",
    "\n",
    "ele = int(input(\"Enter element to search:\"))\n",
    "i = np.where(arr == ele)\n",
    "print(\"Index = {}\".format(i))\n",
    "s = int(input(\"Enter Splitting value:\")) #based on the value it will split the array\n",
    "newarr = np.array_split(arr,s)\n",
    "print(newarr)"
   ]
  },
  {
   "cell_type": "code",
   "execution_count": 10,
   "id": "d81af1bb",
   "metadata": {},
   "outputs": [
    {
     "name": "stdout",
     "output_type": "stream",
     "text": [
      "[111. 188.] (2,)\n",
      "[[102. 203.]\n",
      " [132. 193.]\n",
      " [ 45. 155.]\n",
      " [ 57. 173.]] (4, 2)\n",
      "[[ -9.  15.]\n",
      " [ 21.   5.]\n",
      " [-66. -33.]\n",
      " [-54. -15.]] (4, 2)\n",
      "[17.49285568 21.58703314 73.79024326 56.04462508] (4,)\n"
     ]
    },
    {
     "data": {
      "text/plain": [
       "0"
      ]
     },
     "execution_count": 10,
     "metadata": {},
     "output_type": "execute_result"
    }
   ],
   "source": [
    "import numpy as np\n",
    "from numpy import array,argmin,sqrt,sum\n",
    "\n",
    "observation = array([111.0,188.0])\n",
    "codes = array([[102.0,203.0],\n",
    "              [132.0,193.0],\n",
    "              [45.0,155.0],\n",
    "              [57.0,173.0]])\n",
    "\n",
    "diff = codes - observation\n",
    "dist = sqrt(sum(diff ** 2,axis = -1))\n",
    "\n",
    "print(observation,observation.shape)\n",
    "print(codes,codes.shape)\n",
    "print(diff,diff.shape)\n",
    "print(dist,dist.shape)\n",
    "argmin(dist)"
   ]
  },
  {
   "cell_type": "code",
   "execution_count": 11,
   "id": "1f0f7ee5",
   "metadata": {},
   "outputs": [
    {
     "data": {
      "image/png": "[encoded data removed]",
      "text/plain": [
       "<Figure size 432x288 with 1 Axes>"
      ]
     },
     "metadata": {
      "needs_background": "light"
     },
     "output_type": "display_data"
    }
   ],
   "source": [
    "import numpy as np\n",
    "import matplotlib.pyplot as plt\n",
    "\n",
    "#Computes x and y coordinates for\n",
    "#points on sine and cosine curves\n",
    "\n",
    "x = np.arange(0,3 * np.pi,0.1) #arrayrange\n",
    "y_sin = np.sin(x)\n",
    "y_cos = np.cos(x)\n",
    "\n",
    "#Plot the points using matplotlib\n",
    "plt.plot(x,y_sin)\n",
    "plt.plot(x,y_cos)\n",
    "plt.xlabel(\"x axis label\")\n",
    "plt.ylabel(\"y axis label\")\n",
    "plt.title(\"Sine and Cosine\")\n",
    "plt.legend(['Sine','Cosine'])\n",
    "plt.show()"
   ]
  },
  {
   "cell_type": "code",
   "execution_count": 17,
   "id": "fefda301",
   "metadata": {},
   "outputs": [
    {
     "data": {
      "image/png": "[encoded data removed]",
      "text/plain": [
       "<Figure size 432x288 with 1 Axes>"
      ]
     },
     "metadata": {
      "needs_background": "light"
     },
     "output_type": "display_data"
    }
   ],
   "source": [
    "#line graph\n",
    "import pandas as pd\n",
    "import matplotlib.pyplot as plt\n",
    "\n",
    "data = {'year':[1920,1930,1940,1950,1960,1970,1980,1990,2000,2010],\n",
    "       'unemployement_rate':[9.8,12,8,7.2,6.9,7,6.5,6.2,5.5,6.3]}\n",
    "\n",
    "df = pd.DataFrame(data)\n",
    "plt.plot(df['year'],df['unemployement_rate'],color = 'red',marker='p')\n",
    "plt.title('Unemployement Rate vs Year',fontsize = 14)\n",
    "plt.xlabel('year',fontsize = 14)\n",
    "plt.ylabel('unemployement rate',fontsize = 14)\n",
    "plt.grid(True)\n",
    "plt.show()"
   ]
  },
  {
   "cell_type": "code",
   "execution_count": 14,
   "id": "2363afdb",
   "metadata": {},
   "outputs": [
    {
     "data": {
      "image/png": "[encoded data removed]",
      "text/plain": [
       "<Figure size 432x288 with 1 Axes>"
      ]
     },
     "metadata": {
      "needs_background": "light"
     },
     "output_type": "display_data"
    }
   ],
   "source": [
    "#Scatter graph\n",
    "import matplotlib.pyplot as plt\n",
    "import numpy as np\n",
    "\n",
    "x = np.array([5,7,8,7,2,17,2,9,4,11,12,9,6])\n",
    "y = np.array([99,86,87,88,111,86,103,87,94,78,77,85,86])\n",
    "\n",
    "plt.scatter(x,y)\n",
    "plt.show()"
   ]
  },
  {
   "cell_type": "code",
   "execution_count": 15,
   "id": "e93d5dd2",
   "metadata": {},
   "outputs": [
    {
     "data": {
      "image/png": "[encoded data removed]",
      "text/plain": [
       "<Figure size 432x288 with 1 Axes>"
      ]
     },
     "metadata": {
      "needs_background": "light"
     },
     "output_type": "display_data"
    }
   ],
   "source": [
    "#Bar graph\n",
    "\n",
    "import matplotlib.pyplot as plt\n",
    "import numpy as np\n",
    "\n",
    "x = np.array([\"A\",\"B\",\"C\",\"D\"])\n",
    "y = np.array([3,8,1,10])\n",
    "\n",
    "plt.bar(x,y)\n",
    "plt.show()"
   ]
  },
  {
   "cell_type": "code",
   "execution_count": 16,
   "id": "2c04f933",
   "metadata": {},
   "outputs": [
    {
     "data": {
      "image/png": "[encoded data removed]",
      "text/plain": [
       "<Figure size 720x504 with 1 Axes>"
      ]
     },
     "metadata": {
      "needs_background": "light"
     },
     "output_type": "display_data"
    }
   ],
   "source": [
    "#Box plot\n",
    "\n",
    "import matplotlib.pyplot as plt\n",
    "import numpy as np\n",
    "\n",
    "np.random.seed(10)\n",
    "dataSet1 = np.random.normal(100,10,220)\n",
    "dataSet2 = np.random.normal(80,20,200)\n",
    "dataSet3 = np.random.normal(60,35,220)\n",
    "dataSet4 = np.random.normal(50,40,200)\n",
    "\n",
    "dataSet = [dataSet1,dataSet2,dataSet3,dataSet4]\n",
    "figure = plt.figure(figsize = (10,7))\n",
    "ax = figure.add_axes([0,0,1,1])\n",
    "bp = ax.boxplot(dataSet)\n",
    "plt.show()"
   ]
  },
  {
   "cell_type": "code",
   "execution_count": 1,
   "id": "e6a10918",
   "metadata": {
    "scrolled": true
   },
   "outputs": [
    {
     "data": {
      "image/png": "[encoded data removed]",
      "text/plain": [
       "<Figure size 432x288 with 1 Axes>"
      ]
     },
     "metadata": {
      "needs_background": "light"
     },
     "output_type": "display_data"
    }
   ],
   "source": [
    "import matplotlib.pyplot as plt\n",
    "import numpy as np\n",
    "\n",
    "fig,ax = plt.subplots(1,1)\n",
    "a = np.array([22,87,5,43,56,73,55,54,11,20,51,5,79,31,27])\n",
    "ax.hist(a,bins = [0,25,50,75,100])\n",
    "\n",
    "ax.set_title(\"Histogram of result\")\n",
    "ax.set_xticks([0,25,50,75,100])\n",
    "\n",
    "ax.set_xlabel('marks')\n",
    "ax.set_ylabel('number of students')\n",
    "plt.show()"
   ]
  },
  {
   "cell_type": "code",
   "execution_count": 2,
   "id": "00c8bdaa",
   "metadata": {},
   "outputs": [
    {
     "data": {
      "image/png": "[encoded data removed]",
      "text/plain": [
       "<Figure size 432x288 with 1 Axes>"
      ]
     },
     "metadata": {
      "needs_background": "light"
     },
     "output_type": "display_data"
    }
   ],
   "source": [
    "from pandas import DataFrame\n",
    "import matplotlib.pyplot as plt\n",
    "\n",
    "data = [{8,9,3,4},{4,6,9,1},{7,4,1,3},{9,5,1,3},{7,1,3,9}]\n",
    "Index = ['I1','I2','I3','I4','I5']\n",
    "Cols = ['C1','C2','C3','C4']\n",
    "df = DataFrame(data, index = Index, columns = Cols) \n",
    "plt.pcolor(df)\n",
    "plt.show()"
   ]
  },
  {
   "cell_type": "code",
   "execution_count": 8,
   "id": "0818f391",
   "metadata": {},
   "outputs": [
    {
     "data": {
      "image/png": "[encoded data removed]",
      "text/plain": [
       "<Figure size 432x288 with 1 Axes>"
      ]
     },
     "metadata": {},
     "output_type": "display_data"
    }
   ],
   "source": [
    "import matplotlib.pyplot as plt\n",
    "import numpy as np\n",
    "\n",
    "y = np.array([35,50,25,15])\n",
    "mylabels = [\"Apples\", \"Bananas\", \"Cherries\", \"Dates\"]\n",
    "plt.pie(y, labels = mylabels, startangle = 90)\n",
    "plt.show()"
   ]
  },
  {
   "cell_type": "code",
   "execution_count": 7,
   "id": "c2a0e76a",
   "metadata": {},
   "outputs": [],
   "source": [
    "#table is called as DataFrame\n",
    "#if you perform the operation on a particular column then you can use only that column..called Series DataSet"
   ]
  },
  {
   "cell_type": "code",
   "execution_count": 11,
   "id": "a14d007f",
   "metadata": {},
   "outputs": [
    {
     "data": {
      "text/plain": [
       "[[20, 150, 71, 253, 174],\n",
       " [117, 108, 146, 153, 41],\n",
       " [109, 94, 84, 16, 192],\n",
       " [241, 69, 76, 189, 105],\n",
       " [223, 4, 19, 125, 188],\n",
       " [206, 54, 99, 81, 232]]"
      ]
     },
     "execution_count": 11,
     "metadata": {},
     "output_type": "execute_result"
    }
   ],
   "source": [
    "#7th program\n",
    "\n",
    "from matplotlib import pyplot\n",
    "import random\n",
    "\n",
    "data = [[random.randint(0,256) for x in range(0,5)], #row1\n",
    "        [random.randint(0,256) for x in range(0,5)], #row1\n",
    "        [random.randint(0,256) for x in range(0,5)], #row1\n",
    "        [random.randint(0,256) for x in range(0,5)], #row1\n",
    "        [random.randint(0,256) for x in range(0,5)], #row1\n",
    "        [random.randint(0,256) for x in range(0,5)]] #row1\n",
    "data"
   ]
  },
  {
   "cell_type": "code",
   "execution_count": 14,
   "id": "4c6eab38",
   "metadata": {},
   "outputs": [
    {
     "data": {
      "text/plain": [
       "<matplotlib.image.AxesImage at 0x7f6e9735f940>"
      ]
     },
     "execution_count": 14,
     "metadata": {},
     "output_type": "execute_result"
    },
    {
     "data": {
      "image/png": "[encoded data removed]",
      "text/plain": [
       "<Figure size 360x360 with 1 Axes>"
      ]
     },
     "metadata": {
      "needs_background": "light"
     },
     "output_type": "display_data"
    }
   ],
   "source": [
    "from matplotlib import colors\n",
    "\n",
    "pyplot.figure(figsize = (5,5))\n",
    "pyplot.xlabel(\"x axis with ticks\", size = 8)\n",
    "pyplot.ylabel(\"y axis with ticks\", size = 8)\n",
    "pyplot.title(\"This is the title of the plot\", size = 10)\n",
    "pyplot.xticks(size = 14, color = \"red\")\n",
    "pyplot.yticks(size = 14, color = \"red\")\n",
    "colormap = colors.ListedColormap([\"lightpink\", \"darkblue\"])\n",
    "pyplot.imshow(data,cmap = colormap)"
   ]
  },
  {
   "cell_type": "code",
   "execution_count": 21,
   "id": "0363de15",
   "metadata": {},
   "outputs": [
    {
     "data": {
      "text/html": [
       "<div>\n",
       "<style scoped>\n",
       "    .dataframe tbody tr th:only-of-type {\n",
       "        vertical-align: middle;\n",
       "    }\n",
       "\n",
       "    .dataframe tbody tr th {\n",
       "        vertical-align: top;\n",
       "    }\n",
       "\n",
       "    .dataframe thead th {\n",
       "        text-align: right;\n",
       "    }\n",
       "</style>\n",
       "<table border=\"1\" class=\"dataframe\">\n",
       "  <thead>\n",
       "    <tr style=\"text-align: right;\">\n",
       "      <th></th>\n",
       "      <th>YearsExperience</th>\n",
       "      <th>Salary</th>\n",
       "    </tr>\n",
       "  </thead>\n",
       "  <tbody>\n",
       "    <tr>\n",
       "      <th>0</th>\n",
       "      <td>1.1</td>\n",
       "      <td>40000</td>\n",
       "    </tr>\n",
       "    <tr>\n",
       "      <th>1</th>\n",
       "      <td>1.3</td>\n",
       "      <td>50000</td>\n",
       "    </tr>\n",
       "    <tr>\n",
       "      <th>2</th>\n",
       "      <td>2.0</td>\n",
       "      <td>86566</td>\n",
       "    </tr>\n",
       "    <tr>\n",
       "      <th>3</th>\n",
       "      <td>2.4</td>\n",
       "      <td>23000</td>\n",
       "    </tr>\n",
       "    <tr>\n",
       "      <th>4</th>\n",
       "      <td>1.5</td>\n",
       "      <td>41000</td>\n",
       "    </tr>\n",
       "  </tbody>\n",
       "</table>\n",
       "</div>"
      ],
      "text/plain": [
       "   YearsExperience  Salary\n",
       "0              1.1   40000\n",
       "1              1.3   50000\n",
       "2              2.0   86566\n",
       "3              2.4   23000\n",
       "4              1.5   41000"
      ]
     },
     "execution_count": 21,
     "metadata": {},
     "output_type": "execute_result"
    }
   ],
   "source": [
    "#8: Program to Implement Linear regression\n",
    "\n",
    "#importing the dataset\n",
    "import numpy as np\n",
    "import pandas as pd\n",
    "import matplotlib.pyplot as plt\n",
    "\n",
    "dataset = pd.read_csv('salaryData.csv')\n",
    "dataset.head()\n"
   ]
  },
  {
   "cell_type": "code",
   "execution_count": 29,
   "id": "a2bfc0e8",
   "metadata": {
    "scrolled": true
   },
   "outputs": [
    {
     "data": {
      "text/plain": [
       "array([40000, 50000, 78654, 56000, 60000, 35578, 52000])"
      ]
     },
     "execution_count": 29,
     "metadata": {},
     "output_type": "execute_result"
    }
   ],
   "source": [
    "#data pre-processing\n",
    "x = dataset.iloc[:, :-1].values #independent variable array\n",
    "y = dataset.iloc[:, 1].values #dependent variable vector\n",
    "\n",
    "#splitting the dataset\n",
    "from sklearn.model_selection import train_test_split\n",
    "x_train, x_test, y_train, y_test = train_test_split(x, y, test_size = 1 / 3, random_state = 0)\n",
    "\n",
    "#fitting the regression model\n",
    "from sklearn.linear_model import LinearRegression\n",
    "regressor = LinearRegression()\n",
    "regressor.fit(x_train, y_train) #actually produces the linear eqn for\n",
    "\n",
    "#predicting the test set results\n",
    "y_pred = regressor.predict(x_test)\n",
    "y_pred\n",
    "y_test"
   ]
  },
  {
   "cell_type": "code",
   "execution_count": 30,
   "id": "c16aef6b",
   "metadata": {},
   "outputs": [
    {
     "data": {
      "image/png": "[encoded data removed]",
      "text/plain": [
       "<Figure size 432x288 with 1 Axes>"
      ]
     },
     "metadata": {
      "needs_background": "light"
     },
     "output_type": "display_data"
    }
   ],
   "source": [
    "#visulaizing the results\n",
    "#plot the train\n",
    "plt.scatter(x_train, y_train, color = 'red') #plotting the observation\n",
    "plt.plot(x_train, regressor.predict(x_train), color = 'blue') #plotting\n",
    "plt.title(\"Salary vs Experience (Training set)\") #stating the title\n",
    "\n",
    "plt.xlabel(\"Years of Experience\") #name of x-axis\n",
    "plt.ylabel(\"Salaries\") #name of y-axis\n",
    "plt.show() #specify end of graph"
   ]
  },
  {
   "cell_type": "code",
   "execution_count": 33,
   "id": "ca3e3745",
   "metadata": {},
   "outputs": [
    {
     "data": {
      "image/png": "[encoded data removed]",
      "text/plain": [
       "<Figure size 432x288 with 1 Axes>"
      ]
     },
     "metadata": {
      "needs_background": "light"
     },
     "output_type": "display_data"
    }
   ],
   "source": [
    "#plot for the TEST\n",
    "plt.scatter(x_test, y_test, color = 'red')\n",
    "plt.plot(x_train, regressor.predict(x_train), color = 'blue') #plotting\n",
    "plt.title(\"Salary vs Experience (Testing set)\") #stating the title\n",
    "\n",
    "plt.xlabel(\"Years of Experience\") #name of x-axis\n",
    "plt.ylabel(\"Salaries\") #name of y-axis\n",
    "plt.show() #specify end of graph"
   ]
  },
  {
   "cell_type": "code",
   "execution_count": null,
   "id": "fdc6a646",
   "metadata": {},
   "outputs": [],
   "source": []
  }
 ],
 "metadata": {
  "kernelspec": {
   "display_name": "Python 3 (ipykernel)",
   "language": "python",
   "name": "python3"
  },
  "language_info": {
   "codemirror_mode": {
    "name": "ipython",
    "version": 3
   },
   "file_extension": ".py",
   "mimetype": "text/x-python",
   "name": "python",
   "nbconvert_exporter": "python",
   "pygments_lexer": "ipython3",
   "version": "3.9.7"
  }
 },
 "nbformat": 4,
 "nbformat_minor": 5
}
