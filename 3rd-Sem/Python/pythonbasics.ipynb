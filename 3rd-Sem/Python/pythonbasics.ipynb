{
 "cells": [
  {
   "cell_type": "code",
   "execution_count": 1,
   "id": "d80def2f-28d9-4d5c-81d4-3ec348916dc0",
   "metadata": {},
   "outputs": [
    {
     "name": "stdout",
     "output_type": "stream",
     "text": [
      "Hello world\n"
     ]
    }
   ],
   "source": [
    "print(\"Hello world\")"
   ]
  },
  {
   "cell_type": "code",
   "execution_count": 2,
   "id": "c09dbc55-609b-4c1d-9fba-f3faccbdcca5",
   "metadata": {},
   "outputs": [
    {
     "name": "stdout",
     "output_type": "stream",
     "text": [
      "10\n"
     ]
    }
   ],
   "source": [
    "x=10\n",
    "y=2.30\n",
    "z='I'\n",
    "w=\"Hello\"\n",
    "print(x)"
   ]
  },
  {
   "cell_type": "code",
   "execution_count": 3,
   "id": "ca882c32-8998-4dda-887f-728064ac98da",
   "metadata": {},
   "outputs": [
    {
     "name": "stdout",
     "output_type": "stream",
     "text": [
      "2.3\n"
     ]
    }
   ],
   "source": [
    "print(y)"
   ]
  },
  {
   "cell_type": "code",
   "execution_count": 4,
   "id": "b8464862-c0a8-4179-a8cc-ca284e77d00f",
   "metadata": {},
   "outputs": [
    {
     "name": "stdout",
     "output_type": "stream",
     "text": [
      "ll O\n"
     ]
    }
   ],
   "source": [
    "print(\"ll\",'O')"
   ]
  },
  {
   "cell_type": "code",
   "execution_count": 5,
   "id": "3cc1e838-f193-44d2-8e2e-e59af19a5d06",
   "metadata": {},
   "outputs": [
    {
     "name": "stdout",
     "output_type": "stream",
     "text": [
      "ll O\n"
     ]
    }
   ],
   "source": [
    "print(\"ll O\")"
   ]
  },
  {
   "cell_type": "code",
   "execution_count": 6,
   "id": "4aee89f1-61e2-460c-86e1-1c493a1d7f36",
   "metadata": {},
   "outputs": [
    {
     "name": "stdout",
     "output_type": "stream",
     "text": [
      "just number 29\n"
     ]
    }
   ],
   "source": [
    "t=29\n",
    "print(\"just number\",t)"
   ]
  },
  {
   "cell_type": "code",
   "execution_count": 8,
   "id": "65cc4e2a-b2f1-4d96-9e4a-2305adf1483d",
   "metadata": {},
   "outputs": [
    {
     "name": "stdin",
     "output_type": "stream",
     "text": [
      "num1 67\n",
      "enter message bbhgg\n"
     ]
    },
    {
     "name": "stdout",
     "output_type": "stream",
     "text": [
      "entered is 67.0 bbhgg\n"
     ]
    }
   ],
   "source": [
    "z=float(input(\"num1\"))\n",
    "x=input(\"enter message\")\n",
    "print(\"entered is\",z,x)"
   ]
  },
  {
   "cell_type": "code",
   "execution_count": 9,
   "id": "b5c893f5-2df6-4c64-9ffd-76c537c0e06f",
   "metadata": {},
   "outputs": [
    {
     "name": "stdout",
     "output_type": "stream",
     "text": [
      "<class 'str'>\n"
     ]
    }
   ],
   "source": [
    "print(type(x))"
   ]
  },
  {
   "cell_type": "code",
   "execution_count": 11,
   "id": "a968ad2c-ce7e-4a85-bf5a-b3379e37dc02",
   "metadata": {},
   "outputs": [
    {
     "name": "stdout",
     "output_type": "stream",
     "text": [
      "<class 'float'>\n"
     ]
    }
   ],
   "source": [
    "print(type (z))"
   ]
  },
  {
   "cell_type": "code",
   "execution_count": 12,
   "id": "89b15d5d-f2ee-4ba0-8cd8-af7025083b84",
   "metadata": {},
   "outputs": [
    {
     "name": "stdout",
     "output_type": "stream",
     "text": [
      "lo, \n",
      "l,a\n"
     ]
    }
   ],
   "source": [
    "str=\"HelloMasters\"\n",
    "print(str[3:7])\n",
    "print(str[2:10:3])"
   ]
  },
  {
   "cell_type": "code",
   "execution_count": 13,
   "id": "254b73a0-21a2-4c3a-be25-eb4f6d8558ce",
   "metadata": {},
   "outputs": [
    {
     "name": "stdout",
     "output_type": "stream",
     "text": [
      "ters\n"
     ]
    }
   ],
   "source": [
    "print(str[-4:])"
   ]
  },
  {
   "cell_type": "code",
   "execution_count": 7,
   "id": "d2f0c06e-dae7-4ec3-b8c5-279015440435",
   "metadata": {},
   "outputs": [
    {
     "ename": "TypeError",
     "evalue": "'type' object is not subscriptable",
     "output_type": "error",
     "traceback": [
      "\u001b[0;31m---------------------------------------------------------------------------\u001b[0m",
      "\u001b[0;31mTypeError\u001b[0m                                 Traceback (most recent call last)",
      "\u001b[0;32m/tmp/ipykernel_4035/3785835749.py\u001b[0m in \u001b[0;36m<module>\u001b[0;34m\u001b[0m\n\u001b[0;32m----> 1\u001b[0;31m \u001b[0mprint\u001b[0m\u001b[0;34m(\u001b[0m\u001b[0mstr\u001b[0m\u001b[0;34m[\u001b[0m\u001b[0;36m3\u001b[0m\u001b[0;34m:\u001b[0m\u001b[0;36m7\u001b[0m\u001b[0;34m]\u001b[0m\u001b[0;34m)\u001b[0m\u001b[0;34m\u001b[0m\u001b[0;34m\u001b[0m\u001b[0m\n\u001b[0m",
      "\u001b[0;31mTypeError\u001b[0m: 'type' object is not subscriptable"
     ]
    }
   ],
   "source": [
    "print(str[3:7])"
   ]
  },
  {
   "cell_type": "code",
   "execution_count": 14,
   "id": "11c8cefc-ba37-44db-9012-23e498fc5c32",
   "metadata": {},
   "outputs": [
    {
     "name": "stdout",
     "output_type": "stream",
     "text": [
      "\n"
     ]
    }
   ],
   "source": [
    "print(str[-4:10])"
   ]
  },
  {
   "cell_type": "code",
   "execution_count": 15,
   "id": "ca7ebde0-7c6e-4a2c-aeb1-b0ad74a63eaf",
   "metadata": {},
   "outputs": [
    {
     "name": "stdout",
     "output_type": "stream",
     "text": [
      "hello, masters\n"
     ]
    }
   ],
   "source": [
    "print(str.lower())"
   ]
  },
  {
   "cell_type": "code",
   "execution_count": 16,
   "id": "0137cb48-034c-4768-992d-f8a909dc07ef",
   "metadata": {},
   "outputs": [
    {
     "name": "stdout",
     "output_type": "stream",
     "text": [
      "HELLO, MASTERS\n"
     ]
    }
   ],
   "source": [
    "print(str.upper())"
   ]
  },
  {
   "cell_type": "code",
   "execution_count": 17,
   "id": "502b8485-d182-49f1-a238-0362c06710e7",
   "metadata": {},
   "outputs": [
    {
     "name": "stdout",
     "output_type": "stream",
     "text": [
      "False\n"
     ]
    }
   ],
   "source": [
    "print(str.isupper())"
   ]
  },
  {
   "cell_type": "code",
   "execution_count": 18,
   "id": "9fed0e0a-fc6e-4cc1-af9e-1165743fbb36",
   "metadata": {},
   "outputs": [
    {
     "name": "stdout",
     "output_type": "stream",
     "text": [
      "Hello, Masters\n"
     ]
    }
   ],
   "source": [
    "print(str)"
   ]
  },
  {
   "cell_type": "code",
   "execution_count": 19,
   "id": "d5f1f1e1-5440-42cc-983a-ecca7df38ded",
   "metadata": {},
   "outputs": [
    {
     "name": "stdout",
     "output_type": "stream",
     "text": [
      "False\n"
     ]
    }
   ],
   "source": [
    "print(str.islower())"
   ]
  },
  {
   "cell_type": "code",
   "execution_count": 20,
   "id": "55aee9d6-6d94-48bd-ba8a-bfa35c91e6e9",
   "metadata": {},
   "outputs": [
    {
     "name": "stdout",
     "output_type": "stream",
     "text": [
      "False\n"
     ]
    }
   ],
   "source": [
    "print(str.isalpha())"
   ]
  },
  {
   "cell_type": "code",
   "execution_count": 21,
   "id": "8dbc1c26-0d05-4b1d-95ba-647e32f50e79",
   "metadata": {},
   "outputs": [
    {
     "name": "stdout",
     "output_type": "stream",
     "text": [
      "False\n"
     ]
    }
   ],
   "source": [
    "print(str.isalpha())"
   ]
  },
  {
   "cell_type": "code",
   "execution_count": 22,
   "id": "b61a3fea-dfe5-4260-95f7-6e7ed8068e76",
   "metadata": {},
   "outputs": [
    {
     "name": "stdout",
     "output_type": "stream",
     "text": [
      "True\n"
     ]
    }
   ],
   "source": [
    "st=\"helloMasters\"\n",
    "print(st.isalpha())"
   ]
  },
  {
   "cell_type": "code",
   "execution_count": 1,
   "id": "fc2ec486-96e2-4b37-9186-425eca72c5b1",
   "metadata": {},
   "outputs": [
    {
     "name": "stdout",
     "output_type": "stream",
     "text": [
      "False\n"
     ]
    }
   ],
   "source": [
    "alp=\"12hello\"\n",
    "print(alp.isalpha())"
   ]
  },
  {
   "cell_type": "code",
   "execution_count": 4,
   "id": "469c4651",
   "metadata": {},
   "outputs": [
    {
     "name": "stdout",
     "output_type": "stream",
     "text": [
      "Lorem ipsum dolor sit amet,\n",
      "consectetur adipiscing elit,\n",
      "sed do eiusmod tempor incididunt\n",
      "ut labore et dolore magna aliqua.\n"
     ]
    }
   ],
   "source": [
    "\"\"\"Lorem ipsum dolor sit amet,\n",
    "consectetur adipiscing elit,\n",
    "sed do eiusmod tempor incididunt\n",
    "ut labore et dolore magna aliqua.\"\"\"\n",
    "print(a)"
   ]
  },
  {
   "cell_type": "code",
   "execution_count": 6,
   "id": "f3474b07",
   "metadata": {},
   "outputs": [
    {
     "data": {
      "text/plain": [
       "'Lorem ipsum dolor sit amet,\\nconsectetur adipiscing elit,\\nsed do eiusmod tempor incididunt\\nut labore et dolore magna aliqua.'"
      ]
     },
     "execution_count": 6,
     "metadata": {},
     "output_type": "execute_result"
    }
   ],
   "source": [
    "\"\"\"Lorem ipsum dolor sit amet,\n",
    "consectetur adipiscing elit,\n",
    "sed do eiusmod tempor incididunt\n",
    "ut labore et dolore magna aliqua.\"\"\""
   ]
  },
  {
   "cell_type": "code",
   "execution_count": 8,
   "id": "af404dca",
   "metadata": {},
   "outputs": [
    {
     "name": "stdout",
     "output_type": "stream",
     "text": [
      "False\n"
     ]
    }
   ],
   "source": [
    "string=\"hello good morning\"\n",
    "print(string.isspace())"
   ]
  },
  {
   "cell_type": "code",
   "execution_count": 9,
   "id": "81463bf7",
   "metadata": {},
   "outputs": [
    {
     "name": "stdout",
     "output_type": "stream",
     "text": [
      "True\n"
     ]
    }
   ],
   "source": [
    "strin=\"          \"\n",
    "print(strin.isspace())"
   ]
  },
  {
   "cell_type": "code",
   "execution_count": 13,
   "id": "42e0ddd0",
   "metadata": {},
   "outputs": [
    {
     "name": "stdout",
     "output_type": "stream",
     "text": [
      "\n"
     ]
    }
   ],
   "source": [
    "fun=\"madam\"\n",
    "print(fun[-1:1])"
   ]
  },
  {
   "cell_type": "code",
   "execution_count": 15,
   "id": "e0da5e89",
   "metadata": {},
   "outputs": [
    {
     "name": "stdout",
     "output_type": "stream",
     "text": [
      "['hr', 2, 3, 4]\n"
     ]
    }
   ],
   "source": [
    "list=[1,2,3,4]\n",
    "list[0]='hr'\n",
    "print(list)"
   ]
  },
  {
   "cell_type": "code",
   "execution_count": 17,
   "id": "87e750a2",
   "metadata": {},
   "outputs": [
    {
     "name": "stdout",
     "output_type": "stream",
     "text": [
      "[1, 2, 3, 4, 8]\n"
     ]
    }
   ],
   "source": [
    "list=[1,2,3,4]\n",
    "list.append(8)\n",
    "print(list)"
   ]
  },
  {
   "cell_type": "code",
   "execution_count": 18,
   "id": "554105c8",
   "metadata": {},
   "outputs": [
    {
     "name": "stdout",
     "output_type": "stream",
     "text": [
      "[1, 2, 3, 4, 3, 7, 6, 2]\n"
     ]
    }
   ],
   "source": [
    "list=[1,2,3,4]\n",
    "list2=[3,7,6,2]\n",
    "list.extend(list2)\n",
    "print(list)"
   ]
  },
  {
   "cell_type": "code",
   "execution_count": 19,
   "id": "9590affb",
   "metadata": {},
   "outputs": [
    {
     "name": "stdout",
     "output_type": "stream",
     "text": [
      "(1, 2, 32, 'Value')\n"
     ]
    }
   ],
   "source": [
    "touple=(1,2,32,\"Value\")\n",
    "print(touple)"
   ]
  },
  {
   "cell_type": "code",
   "execution_count": 20,
   "id": "b036b43a",
   "metadata": {},
   "outputs": [
    {
     "ename": "AttributeError",
     "evalue": "'tuple' object has no attribute 'append'",
     "output_type": "error",
     "traceback": [
      "\u001b[0;31m---------------------------------------------------------------------------\u001b[0m",
      "\u001b[0;31mAttributeError\u001b[0m                            Traceback (most recent call last)",
      "\u001b[0;32m/tmp/ipykernel_4035/1778041970.py\u001b[0m in \u001b[0;36m<module>\u001b[0;34m\u001b[0m\n\u001b[1;32m      1\u001b[0m \u001b[0mtouple\u001b[0m\u001b[0;34m=\u001b[0m\u001b[0;34m(\u001b[0m\u001b[0;36m1\u001b[0m\u001b[0;34m,\u001b[0m\u001b[0;36m2\u001b[0m\u001b[0;34m,\u001b[0m\u001b[0;36m32\u001b[0m\u001b[0;34m,\u001b[0m\u001b[0;34m\"Value\"\u001b[0m\u001b[0;34m)\u001b[0m\u001b[0;34m\u001b[0m\u001b[0;34m\u001b[0m\u001b[0m\n\u001b[0;32m----> 2\u001b[0;31m \u001b[0mtouple\u001b[0m\u001b[0;34m.\u001b[0m\u001b[0mappend\u001b[0m\u001b[0;34m(\u001b[0m\u001b[0;36m3\u001b[0m\u001b[0;34m)\u001b[0m\u001b[0;34m\u001b[0m\u001b[0;34m\u001b[0m\u001b[0m\n\u001b[0m\u001b[1;32m      3\u001b[0m \u001b[0mprint\u001b[0m\u001b[0;34m(\u001b[0m\u001b[0mtouple\u001b[0m\u001b[0;34m)\u001b[0m\u001b[0;34m\u001b[0m\u001b[0;34m\u001b[0m\u001b[0m\n",
      "\u001b[0;31mAttributeError\u001b[0m: 'tuple' object has no attribute 'append'"
     ]
    }
   ],
   "source": [
    "touple=(1,2,32,\"Value\")\n",
    "touple.append(3)\n",
    "print(touple)"
   ]
  },
  {
   "cell_type": "code",
   "execution_count": 21,
   "id": "c99b7261",
   "metadata": {},
   "outputs": [
    {
     "name": "stdout",
     "output_type": "stream",
     "text": [
      "olleh\n"
     ]
    }
   ],
   "source": [
    "str=\"hello\"\n",
    "print(str[::-1])"
   ]
  },
  {
   "cell_type": "code",
   "execution_count": 31,
   "id": "2005a4fd",
   "metadata": {},
   "outputs": [
    {
     "name": "stdout",
     "output_type": "stream",
     "text": [
      "hello\n"
     ]
    }
   ],
   "source": [
    "dicti={1:\"hello\",2.2:\"happy\",\"crazy\":1}\n",
    "print(dicti[1])"
   ]
  },
  {
   "cell_type": "code",
   "execution_count": 27,
   "id": "72553e21",
   "metadata": {},
   "outputs": [
    {
     "name": "stdout",
     "output_type": "stream",
     "text": [
      "happy\n"
     ]
    }
   ],
   "source": [
    "dicti={1:\"hello\",2.2:\"happy\",\"crazy\":1}\n",
    "print(dicti[2.2])"
   ]
  },
  {
   "cell_type": "code",
   "execution_count": 28,
   "id": "51e7e019",
   "metadata": {},
   "outputs": [
    {
     "ename": "SyntaxError",
     "evalue": "invalid syntax (2653249196.py, line 1)",
     "output_type": "error",
     "traceback": [
      "\u001b[0;36m  File \u001b[0;32m\"/tmp/ipykernel_4035/2653249196.py\"\u001b[0;36m, line \u001b[0;32m1\u001b[0m\n\u001b[0;31m    dicti=[1:\"hello\",2.2:\"happy\"]\u001b[0m\n\u001b[0m            ^\u001b[0m\n\u001b[0;31mSyntaxError\u001b[0m\u001b[0;31m:\u001b[0m invalid syntax\n"
     ]
    }
   ],
   "source": [
    "dicti=[1:\"hello\",2.2:\"happy\"]\n",
    "print(dicti[1])"
   ]
  },
  {
   "cell_type": "code",
   "execution_count": 26,
   "id": "0f11977d",
   "metadata": {},
   "outputs": [
    {
     "ename": "SyntaxError",
     "evalue": "invalid syntax (1136901092.py, line 1)",
     "output_type": "error",
     "traceback": [
      "\u001b[0;36m  File \u001b[0;32m\"/tmp/ipykernel_4035/1136901092.py\"\u001b[0;36m, line \u001b[0;32m1\u001b[0m\n\u001b[0;31m    dictionary will accept duplicate keys\u001b[0m\n\u001b[0m               ^\u001b[0m\n\u001b[0;31mSyntaxError\u001b[0m\u001b[0;31m:\u001b[0m invalid syntax\n"
     ]
    }
   ],
   "source": [
    "dictionary will accept duplicate keys"
   ]
  },
  {
   "cell_type": "code",
   "execution_count": 34,
   "id": "41253fd1",
   "metadata": {},
   "outputs": [
    {
     "name": "stdout",
     "output_type": "stream",
     "text": [
      "crazy\n"
     ]
    }
   ],
   "source": [
    "dici={1:\"hello\",2.2:\"happy\",1:\"crazy\"} # str={key:value}\n",
    "print(dici[1])"
   ]
  },
  {
   "cell_type": "code",
   "execution_count": 35,
   "id": "961d7f0c",
   "metadata": {},
   "outputs": [
    {
     "name": "stdout",
     "output_type": "stream",
     "text": [
      "true\n"
     ]
    }
   ],
   "source": [
    "list=[2,3,5,4,3,54,7]\n",
    "if 2 in list:\n",
    "    print(\"true\")"
   ]
  },
  {
   "cell_type": "code",
   "execution_count": 36,
   "id": "b582044c",
   "metadata": {},
   "outputs": [],
   "source": [
    "list=[2,3,5,4,3,54,7]\n",
    "if 2 not in list:\n",
    "    print(\"true\")"
   ]
  },
  {
   "cell_type": "code",
   "execution_count": 37,
   "id": "5458f5d8",
   "metadata": {},
   "outputs": [
    {
     "name": "stdout",
     "output_type": "stream",
     "text": [
      "true\n"
     ]
    }
   ],
   "source": [
    "list=[2,3,5,4,3,54,7]\n",
    "if 1 not in list:\n",
    "    print(\"true\")"
   ]
  },
  {
   "cell_type": "code",
   "execution_count": 38,
   "id": "91bdc74e",
   "metadata": {},
   "outputs": [
    {
     "name": "stdout",
     "output_type": "stream",
     "text": [
      "tr\n"
     ]
    }
   ],
   "source": [
    "string=\"this is string\"\n",
    "if \"tr\" in string:\n",
    "    print(\"tr\")"
   ]
  },
  {
   "cell_type": "code",
   "execution_count": 39,
   "id": "c9514dff",
   "metadata": {},
   "outputs": [],
   "source": [
    "string=\"this is string\"\n",
    "if \"t g\" in string:\n",
    "    print(\"t g\")"
   ]
  },
  {
   "cell_type": "code",
   "execution_count": 40,
   "id": "34d32246",
   "metadata": {},
   "outputs": [
    {
     "name": "stdout",
     "output_type": "stream",
     "text": [
      "ng\n"
     ]
    }
   ],
   "source": [
    "string=\"this is string\"\n",
    "if \"ng\" in string:\n",
    "    print(\"ng\")"
   ]
  },
  {
   "cell_type": "code",
   "execution_count": 41,
   "id": "d327122a",
   "metadata": {},
   "outputs": [
    {
     "name": "stdout",
     "output_type": "stream",
     "text": [
      "true\n"
     ]
    }
   ],
   "source": [
    "list=[2,3,5,4,3,54,7]\n",
    "if 1 or 2 in list:\n",
    "    print(\"true\")"
   ]
  },
  {
   "cell_type": "code",
   "execution_count": 44,
   "id": "b038e2df",
   "metadata": {},
   "outputs": [
    {
     "name": "stdout",
     "output_type": "stream",
     "text": [
      "false\n"
     ]
    }
   ],
   "source": [
    "list=[2,3,5,4,3,54,7]\n",
    "if (1 and 2) not in list:\n",
    "    print(\"true\")\n",
    "else:\n",
    "    print(\"false\")"
   ]
  },
  {
   "cell_type": "code",
   "execution_count": 54,
   "id": "93eafa40",
   "metadata": {},
   "outputs": [
    {
     "name": "stdout",
     "output_type": "stream",
     "text": [
      "Yes\n"
     ]
    }
   ],
   "source": [
    "list1=[2,3,5,4,9,4,7]\n",
    "list2=[2,566]\n",
    "for i in list1:\n",
    "    if i in list2:\n",
    "        print(\"Yes\")"
   ]
  },
  {
   "cell_type": "code",
   "execution_count": 56,
   "id": "1c3c60a5",
   "metadata": {},
   "outputs": [
    {
     "name": "stdout",
     "output_type": "stream",
     "text": [
      "28\n"
     ]
    }
   ],
   "source": [
    "def cal(x,y):\n",
    "    return x+y\n",
    "\n",
    "a=10\n",
    "b=18\n",
    "val=cal(a,b)\n",
    "print(val)"
   ]
  },
  {
   "cell_type": "code",
   "execution_count": 57,
   "id": "8fffd9f2",
   "metadata": {},
   "outputs": [
    {
     "name": "stdout",
     "output_type": "stream",
     "text": [
      "180\n"
     ]
    }
   ],
   "source": [
    "def cal(x,y):\n",
    "    return x+y\n",
    "def cal(x,y):\n",
    "    return x*y\n",
    "\n",
    "a=10\n",
    "b=18\n",
    "val=cal(a,b)\n",
    "print(val)"
   ]
  },
  {
   "cell_type": "code",
   "execution_count": 59,
   "id": "d7038921",
   "metadata": {},
   "outputs": [
    {
     "name": "stdout",
     "output_type": "stream",
     "text": [
      "Enter the limit4\n"
     ]
    },
    {
     "ename": "TypeError",
     "evalue": "'int' object is not iterable",
     "output_type": "error",
     "traceback": [
      "\u001b[0;31m---------------------------------------------------------------------------\u001b[0m",
      "\u001b[0;31mTypeError\u001b[0m                                 Traceback (most recent call last)",
      "\u001b[0;32m/tmp/ipykernel_4035/334950162.py\u001b[0m in \u001b[0;36m<module>\u001b[0;34m\u001b[0m\n\u001b[1;32m      1\u001b[0m \u001b[0mn\u001b[0m\u001b[0;34m=\u001b[0m\u001b[0mint\u001b[0m\u001b[0;34m(\u001b[0m\u001b[0minput\u001b[0m\u001b[0;34m(\u001b[0m\u001b[0;34m\"Enter the limit\"\u001b[0m\u001b[0;34m)\u001b[0m\u001b[0;34m)\u001b[0m\u001b[0;34m\u001b[0m\u001b[0;34m\u001b[0m\u001b[0m\n\u001b[0;32m----> 2\u001b[0;31m \u001b[0;32mfor\u001b[0m \u001b[0mi\u001b[0m \u001b[0;32min\u001b[0m \u001b[0mn\u001b[0m\u001b[0;34m:\u001b[0m\u001b[0;34m\u001b[0m\u001b[0;34m\u001b[0m\u001b[0m\n\u001b[0m\u001b[1;32m      3\u001b[0m     \u001b[0mval\u001b[0m\u001b[0;34m=\u001b[0m\u001b[0mint\u001b[0m\u001b[0;34m(\u001b[0m\u001b[0minput\u001b[0m\u001b[0;34m(\u001b[0m\u001b[0;34m\"Enter the values\"\u001b[0m\u001b[0;34m)\u001b[0m\u001b[0;34m)\u001b[0m\u001b[0;34m\u001b[0m\u001b[0;34m\u001b[0m\u001b[0m\n\u001b[1;32m      4\u001b[0m \u001b[0mkey\u001b[0m\u001b[0;34m=\u001b[0m\u001b[0mint\u001b[0m\u001b[0;34m(\u001b[0m\u001b[0minput\u001b[0m\u001b[0;34m(\u001b[0m\u001b[0;34m\"Enter the key value\"\u001b[0m\u001b[0;34m)\u001b[0m\u001b[0;34m)\u001b[0m\u001b[0;34m\u001b[0m\u001b[0;34m\u001b[0m\u001b[0m\n\u001b[1;32m      5\u001b[0m \u001b[0;32mfor\u001b[0m \u001b[0mj\u001b[0m \u001b[0;32min\u001b[0m \u001b[0mval\u001b[0m\u001b[0;34m:\u001b[0m\u001b[0;34m\u001b[0m\u001b[0;34m\u001b[0m\u001b[0m\n",
      "\u001b[0;31mTypeError\u001b[0m: 'int' object is not iterable"
     ]
    }
   ],
   "source": [
    "n=int(input(\"Enter the limit\"))\n",
    "val=int(input(\"Enter the values\"))\n",
    "if n<=val:\n",
    "    key=int(input(\"Enter the key value\"))\n",
    "    for j in val:\n",
    "        if key==j:\n",
    "            print(\"found\")\n",
    "    else:\n",
    "        print(\"not found\")"
   ]
  },
  {
   "cell_type": "code",
   "execution_count": null,
   "id": "dd49c5e9",
   "metadata": {},
   "outputs": [],
   "source": [
    "ele=sorted(\"Python\")\n",
    "print(ele) #it sorts the values based on the ASCII value "
   ]
  },
  {
   "cell_type": "code",
   "execution_count": null,
   "id": "8ee52f59",
   "metadata": {},
   "outputs": [],
   "source": []
  },
  {
   "cell_type": "code",
   "execution_count": 80,
   "id": "42fbfe9c",
   "metadata": {},
   "outputs": [
    {
     "name": "stdout",
     "output_type": "stream",
     "text": [
      "Enter the value 1are\n",
      "Enter the value 2Ear\n",
      "Anagram\n"
     ]
    }
   ],
   "source": [
    "val1=input(\"Enter the value 1\")\n",
    "val2=input(\"Enter the value 2\")\n",
    "val1=val1.lower()\n",
    "val2=val2.lower()\n",
    "v1=sorted(val1)\n",
    "v2=sorted(val2)\n",
    "str1=\"\".join(v1)\n",
    "str2=\"\".join(v2)\n",
    "if(str1==str2):\n",
    "    print('Anagram')\n",
    "else:\n",
    "    print('Not Anagram')"
   ]
  },
  {
   "cell_type": "code",
   "execution_count": 116,
   "id": "b6122efb",
   "metadata": {},
   "outputs": [
    {
     "name": "stdout",
     "output_type": "stream",
     "text": [
      "************happy Thoughts, happy You*************\n",
      "4\n",
      "False\n",
      "True\n",
      "0\n",
      "-1\n",
      "-1\n",
      "6\n",
      "True\n",
      "False\n",
      "True\n",
      "Happy Thoughts, Happy You\n",
      "Happy thoughts, happy you\n",
      "HAPPY THOUGHTS, HAPPY YOU\n",
      "happy thoughts, happy you\n",
      "True\n",
      "True\n",
      "This 3Is & Vcet\n",
      "This 3is & vcet\n",
      "11\n",
      "-1\n"
     ]
    }
   ],
   "source": [
    "val=\"happy Thoughts, happy You\"\n",
    "print(val.center(50,'*'))\n",
    "print(val.count('h'))\n",
    "print(val.endswith('r',3,7))\n",
    "print(val.endswith('T',3,7)) #last-1\n",
    "print(val.find(\"happy\"))\n",
    "print(val.find(\"Happy\",3,8))\n",
    "print(val.find(\"Happy\",0,8))\n",
    "print(val.index('Thoughts'))\n",
    "print(val.isprintable())\n",
    "print(val.isupper())\n",
    "value=\"12 UPPER\"\n",
    "print(value.isupper())\n",
    "print(val.title())\n",
    "print(val.capitalize())\n",
    "print(val.upper())\n",
    "print(val.lower())\n",
    "string=\"hello vcet\"\n",
    "print(string.islower())\n",
    "fun=\"This Is\"\n",
    "print(fun.istitle())\n",
    "fun1=\"this 3is & vCET\"\n",
    "print(fun1.title())\n",
    "print(fun1.capitalize())\n",
    "print(fun1.rindex('vCET'))\n",
    "print(fun1.rfind('11'))"
   ]
  },
  {
   "cell_type": "code",
   "execution_count": null,
   "id": "2dbb1c1b",
   "metadata": {},
   "outputs": [],
   "source": []
  },
  {
   "cell_type": "code",
   "execution_count": null,
   "id": "b4d59b54",
   "metadata": {},
   "outputs": [],
   "source": []
  }
 ],
 "metadata": {
  "kernelspec": {
   "display_name": "Python 3 (ipykernel)",
   "language": "python",
   "name": "python3"
  },
  "language_info": {
   "codemirror_mode": {
    "name": "ipython",
    "version": 3
   },
   "file_extension": ".py",
   "mimetype": "text/x-python",
   "name": "python",
   "nbconvert_exporter": "python",
   "pygments_lexer": "ipython3",
   "version": "3.9.7"
  }
 },
 "nbformat": 4,
 "nbformat_minor": 5
}
